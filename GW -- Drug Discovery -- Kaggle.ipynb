{
 "cells": [
  {
   "cell_type": "markdown",
   "metadata": {},
   "source": [
    "## Drug Discovery -- Mechanism of Action"
   ]
  },
  {
   "cell_type": "markdown",
   "metadata": {},
   "source": [
    "### Gene Expression\n",
    "\n",
    "Gene expression is the process by which information from a gene is used to synthesize a functional gene product, i.e. a protein. These proteins ultimately create a person's phenotype, which is the observable traits that are expressed through someone's genotype. With the correct molecular formulation, genetic transcription pathways can be inhibited or catalyzed by a given medication, and by manipulating these pathways humans are able to alter the chemistry within our bodies and fight cancer or treat hypertension for example.\n",
    "\n",
    "Recording and cataloging gene expression data is especially important for pharmaceutical development since the goal of any medication is to modulate a transcriptional pathway, and through repetition or trials, trends may be observed to determine its safety or lack thereof within an in vitro and then in-human setting.   "
   ]
  },
  {
   "cell_type": "markdown",
   "metadata": {},
   "source": [
    "### Cell Viability \n",
    "\n",
    "Cell viability is a measurement of the total live, healthy cells within a given sample. Assays are used to quantify factors such as metabolic activity, presence of ATP and cell proliferation, and also the toxicity or markers signifying the death of a cell. When introducing investigational compounds within an in-vitro environment, possessing the ability to quantify the enhancement or inhibition of certain cellular processes becomes extremely important because these metrics are used to scale the effectiveness and/or harmfulness of the compound within the human body. Understanding how well a compound is absorbed may be of particular concern to clinical researchers, because a negative downstream effect could be blood toxicity due to compounds that cannot be metabolized, or a positive downstream effect  from proper absorption could be the proliferation of healthy cells vs. harmful cells.  \n",
    "\n",
    "For example, a PD-L1 checkpoint inhibitor is a class of drugs meant to interupt the binding of PD-L1 to a PD-1 receptor. Cancer cells express the PD-L1 protein and they use it to bind to an immune cell's PD-1 receptor, thus helping the cancer cells avoid being detected as a foreign/threatening object. So PD-L1 receptors act as an inhibiting force, preventing the binding of the molecules and leaving the cancer cells open to immune system eradication.  "
   ]
  },
  {
   "cell_type": "code",
   "execution_count": 235,
   "metadata": {},
   "outputs": [],
   "source": [
    "import pandas as pd \n",
    "import matplotlib.pyplot as plt\n",
    "import plotly.express as px\n",
    "import numpy as np \n",
    "\n",
    "from sklearn.multiclass import OneVsRestClassifier\n",
    "from sklearn.linear_model import SGDClassifier\n",
    "from sklearn.preprocessing import StandardScaler\n",
    "from sklearn.model_selection import train_test_split\n",
    "from sklearn.metrics import log_loss, accuracy_score\n",
    "\n",
    "from sklearn.pipeline import Pipeline"
   ]
  },
  {
   "cell_type": "code",
   "execution_count": 236,
   "metadata": {},
   "outputs": [],
   "source": [
    "test_features = pd.read_csv('test_features.csv')\n",
    "train_features = pd.read_csv('train_features.csv')\n",
    "tt_nonscored = pd.read_csv('train_targets_nonscored.csv')\n",
    "tt_scored = pd.read_csv('train_targets_scored.csv')\n",
    "sample_submission = pd.read_csv('sample_submission.csv')"
   ]
  },
  {
   "cell_type": "code",
   "execution_count": 237,
   "metadata": {},
   "outputs": [
    {
     "data": {
      "text/html": [
       "<div>\n",
       "<style scoped>\n",
       "    .dataframe tbody tr th:only-of-type {\n",
       "        vertical-align: middle;\n",
       "    }\n",
       "\n",
       "    .dataframe tbody tr th {\n",
       "        vertical-align: top;\n",
       "    }\n",
       "\n",
       "    .dataframe thead th {\n",
       "        text-align: right;\n",
       "    }\n",
       "</style>\n",
       "<table border=\"1\" class=\"dataframe\">\n",
       "  <thead>\n",
       "    <tr style=\"text-align: right;\">\n",
       "      <th></th>\n",
       "      <th>sig_id</th>\n",
       "      <th>cp_type</th>\n",
       "      <th>cp_time</th>\n",
       "      <th>cp_dose</th>\n",
       "      <th>g-0</th>\n",
       "      <th>g-1</th>\n",
       "      <th>g-2</th>\n",
       "      <th>g-3</th>\n",
       "      <th>g-4</th>\n",
       "      <th>g-5</th>\n",
       "      <th>...</th>\n",
       "      <th>c-90</th>\n",
       "      <th>c-91</th>\n",
       "      <th>c-92</th>\n",
       "      <th>c-93</th>\n",
       "      <th>c-94</th>\n",
       "      <th>c-95</th>\n",
       "      <th>c-96</th>\n",
       "      <th>c-97</th>\n",
       "      <th>c-98</th>\n",
       "      <th>c-99</th>\n",
       "    </tr>\n",
       "  </thead>\n",
       "  <tbody>\n",
       "    <tr>\n",
       "      <th>0</th>\n",
       "      <td>id_000644bb2</td>\n",
       "      <td>trt_cp</td>\n",
       "      <td>24</td>\n",
       "      <td>D1</td>\n",
       "      <td>1.0620</td>\n",
       "      <td>0.5577</td>\n",
       "      <td>-0.2479</td>\n",
       "      <td>-0.6208</td>\n",
       "      <td>-0.1944</td>\n",
       "      <td>-1.0120</td>\n",
       "      <td>...</td>\n",
       "      <td>0.2862</td>\n",
       "      <td>0.2584</td>\n",
       "      <td>0.8076</td>\n",
       "      <td>0.5523</td>\n",
       "      <td>-0.1912</td>\n",
       "      <td>0.6584</td>\n",
       "      <td>-0.3981</td>\n",
       "      <td>0.2139</td>\n",
       "      <td>0.3801</td>\n",
       "      <td>0.4176</td>\n",
       "    </tr>\n",
       "    <tr>\n",
       "      <th>1</th>\n",
       "      <td>id_000779bfc</td>\n",
       "      <td>trt_cp</td>\n",
       "      <td>72</td>\n",
       "      <td>D1</td>\n",
       "      <td>0.0743</td>\n",
       "      <td>0.4087</td>\n",
       "      <td>0.2991</td>\n",
       "      <td>0.0604</td>\n",
       "      <td>1.0190</td>\n",
       "      <td>0.5207</td>\n",
       "      <td>...</td>\n",
       "      <td>-0.4265</td>\n",
       "      <td>0.7543</td>\n",
       "      <td>0.4708</td>\n",
       "      <td>0.0230</td>\n",
       "      <td>0.2957</td>\n",
       "      <td>0.4899</td>\n",
       "      <td>0.1522</td>\n",
       "      <td>0.1241</td>\n",
       "      <td>0.6077</td>\n",
       "      <td>0.7371</td>\n",
       "    </tr>\n",
       "    <tr>\n",
       "      <th>2</th>\n",
       "      <td>id_000a6266a</td>\n",
       "      <td>trt_cp</td>\n",
       "      <td>48</td>\n",
       "      <td>D1</td>\n",
       "      <td>0.6280</td>\n",
       "      <td>0.5817</td>\n",
       "      <td>1.5540</td>\n",
       "      <td>-0.0764</td>\n",
       "      <td>-0.0323</td>\n",
       "      <td>1.2390</td>\n",
       "      <td>...</td>\n",
       "      <td>-0.7250</td>\n",
       "      <td>-0.6297</td>\n",
       "      <td>0.6103</td>\n",
       "      <td>0.0223</td>\n",
       "      <td>-1.3240</td>\n",
       "      <td>-0.3174</td>\n",
       "      <td>-0.6417</td>\n",
       "      <td>-0.2187</td>\n",
       "      <td>-1.4080</td>\n",
       "      <td>0.6931</td>\n",
       "    </tr>\n",
       "    <tr>\n",
       "      <th>3</th>\n",
       "      <td>id_0015fd391</td>\n",
       "      <td>trt_cp</td>\n",
       "      <td>48</td>\n",
       "      <td>D1</td>\n",
       "      <td>-0.5138</td>\n",
       "      <td>-0.2491</td>\n",
       "      <td>-0.2656</td>\n",
       "      <td>0.5288</td>\n",
       "      <td>4.0620</td>\n",
       "      <td>-0.8095</td>\n",
       "      <td>...</td>\n",
       "      <td>-2.0990</td>\n",
       "      <td>-0.6441</td>\n",
       "      <td>-5.6300</td>\n",
       "      <td>-1.3780</td>\n",
       "      <td>-0.8632</td>\n",
       "      <td>-1.2880</td>\n",
       "      <td>-1.6210</td>\n",
       "      <td>-0.8784</td>\n",
       "      <td>-0.3876</td>\n",
       "      <td>-0.8154</td>\n",
       "    </tr>\n",
       "    <tr>\n",
       "      <th>4</th>\n",
       "      <td>id_001626bd3</td>\n",
       "      <td>trt_cp</td>\n",
       "      <td>72</td>\n",
       "      <td>D2</td>\n",
       "      <td>-0.3254</td>\n",
       "      <td>-0.4009</td>\n",
       "      <td>0.9700</td>\n",
       "      <td>0.6919</td>\n",
       "      <td>1.4180</td>\n",
       "      <td>-0.8244</td>\n",
       "      <td>...</td>\n",
       "      <td>0.0042</td>\n",
       "      <td>0.0048</td>\n",
       "      <td>0.6670</td>\n",
       "      <td>1.0690</td>\n",
       "      <td>0.5523</td>\n",
       "      <td>-0.3031</td>\n",
       "      <td>0.1094</td>\n",
       "      <td>0.2885</td>\n",
       "      <td>-0.3786</td>\n",
       "      <td>0.7125</td>\n",
       "    </tr>\n",
       "  </tbody>\n",
       "</table>\n",
       "<p>5 rows × 876 columns</p>\n",
       "</div>"
      ],
      "text/plain": [
       "         sig_id cp_type  cp_time cp_dose     g-0     g-1     g-2     g-3  \\\n",
       "0  id_000644bb2  trt_cp       24      D1  1.0620  0.5577 -0.2479 -0.6208   \n",
       "1  id_000779bfc  trt_cp       72      D1  0.0743  0.4087  0.2991  0.0604   \n",
       "2  id_000a6266a  trt_cp       48      D1  0.6280  0.5817  1.5540 -0.0764   \n",
       "3  id_0015fd391  trt_cp       48      D1 -0.5138 -0.2491 -0.2656  0.5288   \n",
       "4  id_001626bd3  trt_cp       72      D2 -0.3254 -0.4009  0.9700  0.6919   \n",
       "\n",
       "      g-4     g-5  ...    c-90    c-91    c-92    c-93    c-94    c-95  \\\n",
       "0 -0.1944 -1.0120  ...  0.2862  0.2584  0.8076  0.5523 -0.1912  0.6584   \n",
       "1  1.0190  0.5207  ... -0.4265  0.7543  0.4708  0.0230  0.2957  0.4899   \n",
       "2 -0.0323  1.2390  ... -0.7250 -0.6297  0.6103  0.0223 -1.3240 -0.3174   \n",
       "3  4.0620 -0.8095  ... -2.0990 -0.6441 -5.6300 -1.3780 -0.8632 -1.2880   \n",
       "4  1.4180 -0.8244  ...  0.0042  0.0048  0.6670  1.0690  0.5523 -0.3031   \n",
       "\n",
       "     c-96    c-97    c-98    c-99  \n",
       "0 -0.3981  0.2139  0.3801  0.4176  \n",
       "1  0.1522  0.1241  0.6077  0.7371  \n",
       "2 -0.6417 -0.2187 -1.4080  0.6931  \n",
       "3 -1.6210 -0.8784 -0.3876 -0.8154  \n",
       "4  0.1094  0.2885 -0.3786  0.7125  \n",
       "\n",
       "[5 rows x 876 columns]"
      ]
     },
     "execution_count": 237,
     "metadata": {},
     "output_type": "execute_result"
    }
   ],
   "source": [
    "train_features.head()"
   ]
  },
  {
   "cell_type": "code",
   "execution_count": 238,
   "metadata": {},
   "outputs": [
    {
     "data": {
      "text/html": [
       "<div>\n",
       "<style scoped>\n",
       "    .dataframe tbody tr th:only-of-type {\n",
       "        vertical-align: middle;\n",
       "    }\n",
       "\n",
       "    .dataframe tbody tr th {\n",
       "        vertical-align: top;\n",
       "    }\n",
       "\n",
       "    .dataframe thead th {\n",
       "        text-align: right;\n",
       "    }\n",
       "</style>\n",
       "<table border=\"1\" class=\"dataframe\">\n",
       "  <thead>\n",
       "    <tr style=\"text-align: right;\">\n",
       "      <th></th>\n",
       "      <th>sig_id</th>\n",
       "      <th>cp_type</th>\n",
       "      <th>cp_time</th>\n",
       "      <th>cp_dose</th>\n",
       "      <th>g-0</th>\n",
       "      <th>g-1</th>\n",
       "      <th>g-2</th>\n",
       "      <th>g-3</th>\n",
       "      <th>g-4</th>\n",
       "      <th>g-5</th>\n",
       "      <th>...</th>\n",
       "      <th>c-90</th>\n",
       "      <th>c-91</th>\n",
       "      <th>c-92</th>\n",
       "      <th>c-93</th>\n",
       "      <th>c-94</th>\n",
       "      <th>c-95</th>\n",
       "      <th>c-96</th>\n",
       "      <th>c-97</th>\n",
       "      <th>c-98</th>\n",
       "      <th>c-99</th>\n",
       "    </tr>\n",
       "  </thead>\n",
       "  <tbody>\n",
       "    <tr>\n",
       "      <th>0</th>\n",
       "      <td>id_0004d9e33</td>\n",
       "      <td>trt_cp</td>\n",
       "      <td>24</td>\n",
       "      <td>D1</td>\n",
       "      <td>-0.5458</td>\n",
       "      <td>0.1306</td>\n",
       "      <td>-0.5135</td>\n",
       "      <td>0.4408</td>\n",
       "      <td>1.5500</td>\n",
       "      <td>-0.1644</td>\n",
       "      <td>...</td>\n",
       "      <td>0.0981</td>\n",
       "      <td>0.7978</td>\n",
       "      <td>-0.1430</td>\n",
       "      <td>-0.2067</td>\n",
       "      <td>-0.2303</td>\n",
       "      <td>-0.1193</td>\n",
       "      <td>0.0210</td>\n",
       "      <td>-0.0502</td>\n",
       "      <td>0.1510</td>\n",
       "      <td>-0.7750</td>\n",
       "    </tr>\n",
       "    <tr>\n",
       "      <th>1</th>\n",
       "      <td>id_001897cda</td>\n",
       "      <td>trt_cp</td>\n",
       "      <td>72</td>\n",
       "      <td>D1</td>\n",
       "      <td>-0.1829</td>\n",
       "      <td>0.2320</td>\n",
       "      <td>1.2080</td>\n",
       "      <td>-0.4522</td>\n",
       "      <td>-0.3652</td>\n",
       "      <td>-0.3319</td>\n",
       "      <td>...</td>\n",
       "      <td>-0.1190</td>\n",
       "      <td>-0.1852</td>\n",
       "      <td>-1.0310</td>\n",
       "      <td>-1.3670</td>\n",
       "      <td>-0.3690</td>\n",
       "      <td>-0.5382</td>\n",
       "      <td>0.0359</td>\n",
       "      <td>-0.4764</td>\n",
       "      <td>-1.3810</td>\n",
       "      <td>-0.7300</td>\n",
       "    </tr>\n",
       "    <tr>\n",
       "      <th>2</th>\n",
       "      <td>id_002429b5b</td>\n",
       "      <td>ctl_vehicle</td>\n",
       "      <td>24</td>\n",
       "      <td>D1</td>\n",
       "      <td>0.1852</td>\n",
       "      <td>-0.1404</td>\n",
       "      <td>-0.3911</td>\n",
       "      <td>0.1310</td>\n",
       "      <td>-1.4380</td>\n",
       "      <td>0.2455</td>\n",
       "      <td>...</td>\n",
       "      <td>-0.2261</td>\n",
       "      <td>0.3370</td>\n",
       "      <td>-1.3840</td>\n",
       "      <td>0.8604</td>\n",
       "      <td>-1.9530</td>\n",
       "      <td>-1.0140</td>\n",
       "      <td>0.8662</td>\n",
       "      <td>1.0160</td>\n",
       "      <td>0.4924</td>\n",
       "      <td>-0.1942</td>\n",
       "    </tr>\n",
       "    <tr>\n",
       "      <th>3</th>\n",
       "      <td>id_00276f245</td>\n",
       "      <td>trt_cp</td>\n",
       "      <td>24</td>\n",
       "      <td>D2</td>\n",
       "      <td>0.4828</td>\n",
       "      <td>0.1955</td>\n",
       "      <td>0.3825</td>\n",
       "      <td>0.4244</td>\n",
       "      <td>-0.5855</td>\n",
       "      <td>-1.2020</td>\n",
       "      <td>...</td>\n",
       "      <td>0.1260</td>\n",
       "      <td>0.1570</td>\n",
       "      <td>-0.1784</td>\n",
       "      <td>-1.1200</td>\n",
       "      <td>-0.4325</td>\n",
       "      <td>-0.9005</td>\n",
       "      <td>0.8131</td>\n",
       "      <td>-0.1305</td>\n",
       "      <td>0.5645</td>\n",
       "      <td>-0.5809</td>\n",
       "    </tr>\n",
       "    <tr>\n",
       "      <th>4</th>\n",
       "      <td>id_0027f1083</td>\n",
       "      <td>trt_cp</td>\n",
       "      <td>48</td>\n",
       "      <td>D1</td>\n",
       "      <td>-0.3979</td>\n",
       "      <td>-1.2680</td>\n",
       "      <td>1.9130</td>\n",
       "      <td>0.2057</td>\n",
       "      <td>-0.5864</td>\n",
       "      <td>-0.0166</td>\n",
       "      <td>...</td>\n",
       "      <td>0.4965</td>\n",
       "      <td>0.7578</td>\n",
       "      <td>-0.1580</td>\n",
       "      <td>1.0510</td>\n",
       "      <td>0.5742</td>\n",
       "      <td>1.0900</td>\n",
       "      <td>-0.2962</td>\n",
       "      <td>-0.5313</td>\n",
       "      <td>0.9931</td>\n",
       "      <td>1.8380</td>\n",
       "    </tr>\n",
       "  </tbody>\n",
       "</table>\n",
       "<p>5 rows × 876 columns</p>\n",
       "</div>"
      ],
      "text/plain": [
       "         sig_id      cp_type  cp_time cp_dose     g-0     g-1     g-2     g-3  \\\n",
       "0  id_0004d9e33       trt_cp       24      D1 -0.5458  0.1306 -0.5135  0.4408   \n",
       "1  id_001897cda       trt_cp       72      D1 -0.1829  0.2320  1.2080 -0.4522   \n",
       "2  id_002429b5b  ctl_vehicle       24      D1  0.1852 -0.1404 -0.3911  0.1310   \n",
       "3  id_00276f245       trt_cp       24      D2  0.4828  0.1955  0.3825  0.4244   \n",
       "4  id_0027f1083       trt_cp       48      D1 -0.3979 -1.2680  1.9130  0.2057   \n",
       "\n",
       "      g-4     g-5  ...    c-90    c-91    c-92    c-93    c-94    c-95  \\\n",
       "0  1.5500 -0.1644  ...  0.0981  0.7978 -0.1430 -0.2067 -0.2303 -0.1193   \n",
       "1 -0.3652 -0.3319  ... -0.1190 -0.1852 -1.0310 -1.3670 -0.3690 -0.5382   \n",
       "2 -1.4380  0.2455  ... -0.2261  0.3370 -1.3840  0.8604 -1.9530 -1.0140   \n",
       "3 -0.5855 -1.2020  ...  0.1260  0.1570 -0.1784 -1.1200 -0.4325 -0.9005   \n",
       "4 -0.5864 -0.0166  ...  0.4965  0.7578 -0.1580  1.0510  0.5742  1.0900   \n",
       "\n",
       "     c-96    c-97    c-98    c-99  \n",
       "0  0.0210 -0.0502  0.1510 -0.7750  \n",
       "1  0.0359 -0.4764 -1.3810 -0.7300  \n",
       "2  0.8662  1.0160  0.4924 -0.1942  \n",
       "3  0.8131 -0.1305  0.5645 -0.5809  \n",
       "4 -0.2962 -0.5313  0.9931  1.8380  \n",
       "\n",
       "[5 rows x 876 columns]"
      ]
     },
     "execution_count": 238,
     "metadata": {},
     "output_type": "execute_result"
    }
   ],
   "source": [
    "test_features.head()"
   ]
  },
  {
   "cell_type": "code",
   "execution_count": 239,
   "metadata": {},
   "outputs": [
    {
     "data": {
      "text/html": [
       "<div>\n",
       "<style scoped>\n",
       "    .dataframe tbody tr th:only-of-type {\n",
       "        vertical-align: middle;\n",
       "    }\n",
       "\n",
       "    .dataframe tbody tr th {\n",
       "        vertical-align: top;\n",
       "    }\n",
       "\n",
       "    .dataframe thead th {\n",
       "        text-align: right;\n",
       "    }\n",
       "</style>\n",
       "<table border=\"1\" class=\"dataframe\">\n",
       "  <thead>\n",
       "    <tr style=\"text-align: right;\">\n",
       "      <th></th>\n",
       "      <th>sig_id</th>\n",
       "      <th>5-alpha_reductase_inhibitor</th>\n",
       "      <th>11-beta-hsd1_inhibitor</th>\n",
       "      <th>acat_inhibitor</th>\n",
       "      <th>acetylcholine_receptor_agonist</th>\n",
       "      <th>acetylcholine_receptor_antagonist</th>\n",
       "      <th>acetylcholinesterase_inhibitor</th>\n",
       "      <th>adenosine_receptor_agonist</th>\n",
       "      <th>adenosine_receptor_antagonist</th>\n",
       "      <th>adenylyl_cyclase_activator</th>\n",
       "      <th>...</th>\n",
       "      <th>tropomyosin_receptor_kinase_inhibitor</th>\n",
       "      <th>trpv_agonist</th>\n",
       "      <th>trpv_antagonist</th>\n",
       "      <th>tubulin_inhibitor</th>\n",
       "      <th>tyrosine_kinase_inhibitor</th>\n",
       "      <th>ubiquitin_specific_protease_inhibitor</th>\n",
       "      <th>vegfr_inhibitor</th>\n",
       "      <th>vitamin_b</th>\n",
       "      <th>vitamin_d_receptor_agonist</th>\n",
       "      <th>wnt_inhibitor</th>\n",
       "    </tr>\n",
       "  </thead>\n",
       "  <tbody>\n",
       "    <tr>\n",
       "      <th>0</th>\n",
       "      <td>id_000644bb2</td>\n",
       "      <td>0</td>\n",
       "      <td>0</td>\n",
       "      <td>0</td>\n",
       "      <td>0</td>\n",
       "      <td>0</td>\n",
       "      <td>0</td>\n",
       "      <td>0</td>\n",
       "      <td>0</td>\n",
       "      <td>0</td>\n",
       "      <td>...</td>\n",
       "      <td>0</td>\n",
       "      <td>0</td>\n",
       "      <td>0</td>\n",
       "      <td>0</td>\n",
       "      <td>0</td>\n",
       "      <td>0</td>\n",
       "      <td>0</td>\n",
       "      <td>0</td>\n",
       "      <td>0</td>\n",
       "      <td>0</td>\n",
       "    </tr>\n",
       "    <tr>\n",
       "      <th>1</th>\n",
       "      <td>id_000779bfc</td>\n",
       "      <td>0</td>\n",
       "      <td>0</td>\n",
       "      <td>0</td>\n",
       "      <td>0</td>\n",
       "      <td>0</td>\n",
       "      <td>0</td>\n",
       "      <td>0</td>\n",
       "      <td>0</td>\n",
       "      <td>0</td>\n",
       "      <td>...</td>\n",
       "      <td>0</td>\n",
       "      <td>0</td>\n",
       "      <td>0</td>\n",
       "      <td>0</td>\n",
       "      <td>0</td>\n",
       "      <td>0</td>\n",
       "      <td>0</td>\n",
       "      <td>0</td>\n",
       "      <td>0</td>\n",
       "      <td>0</td>\n",
       "    </tr>\n",
       "    <tr>\n",
       "      <th>2</th>\n",
       "      <td>id_000a6266a</td>\n",
       "      <td>0</td>\n",
       "      <td>0</td>\n",
       "      <td>0</td>\n",
       "      <td>0</td>\n",
       "      <td>0</td>\n",
       "      <td>0</td>\n",
       "      <td>0</td>\n",
       "      <td>0</td>\n",
       "      <td>0</td>\n",
       "      <td>...</td>\n",
       "      <td>0</td>\n",
       "      <td>0</td>\n",
       "      <td>0</td>\n",
       "      <td>0</td>\n",
       "      <td>0</td>\n",
       "      <td>0</td>\n",
       "      <td>0</td>\n",
       "      <td>0</td>\n",
       "      <td>0</td>\n",
       "      <td>0</td>\n",
       "    </tr>\n",
       "    <tr>\n",
       "      <th>3</th>\n",
       "      <td>id_0015fd391</td>\n",
       "      <td>0</td>\n",
       "      <td>0</td>\n",
       "      <td>0</td>\n",
       "      <td>0</td>\n",
       "      <td>0</td>\n",
       "      <td>0</td>\n",
       "      <td>0</td>\n",
       "      <td>0</td>\n",
       "      <td>0</td>\n",
       "      <td>...</td>\n",
       "      <td>0</td>\n",
       "      <td>0</td>\n",
       "      <td>0</td>\n",
       "      <td>0</td>\n",
       "      <td>0</td>\n",
       "      <td>0</td>\n",
       "      <td>0</td>\n",
       "      <td>0</td>\n",
       "      <td>0</td>\n",
       "      <td>0</td>\n",
       "    </tr>\n",
       "    <tr>\n",
       "      <th>4</th>\n",
       "      <td>id_001626bd3</td>\n",
       "      <td>0</td>\n",
       "      <td>0</td>\n",
       "      <td>0</td>\n",
       "      <td>0</td>\n",
       "      <td>0</td>\n",
       "      <td>0</td>\n",
       "      <td>0</td>\n",
       "      <td>0</td>\n",
       "      <td>0</td>\n",
       "      <td>...</td>\n",
       "      <td>0</td>\n",
       "      <td>0</td>\n",
       "      <td>0</td>\n",
       "      <td>0</td>\n",
       "      <td>0</td>\n",
       "      <td>0</td>\n",
       "      <td>0</td>\n",
       "      <td>0</td>\n",
       "      <td>0</td>\n",
       "      <td>0</td>\n",
       "    </tr>\n",
       "  </tbody>\n",
       "</table>\n",
       "<p>5 rows × 207 columns</p>\n",
       "</div>"
      ],
      "text/plain": [
       "         sig_id  5-alpha_reductase_inhibitor  11-beta-hsd1_inhibitor  \\\n",
       "0  id_000644bb2                            0                       0   \n",
       "1  id_000779bfc                            0                       0   \n",
       "2  id_000a6266a                            0                       0   \n",
       "3  id_0015fd391                            0                       0   \n",
       "4  id_001626bd3                            0                       0   \n",
       "\n",
       "   acat_inhibitor  acetylcholine_receptor_agonist  \\\n",
       "0               0                               0   \n",
       "1               0                               0   \n",
       "2               0                               0   \n",
       "3               0                               0   \n",
       "4               0                               0   \n",
       "\n",
       "   acetylcholine_receptor_antagonist  acetylcholinesterase_inhibitor  \\\n",
       "0                                  0                               0   \n",
       "1                                  0                               0   \n",
       "2                                  0                               0   \n",
       "3                                  0                               0   \n",
       "4                                  0                               0   \n",
       "\n",
       "   adenosine_receptor_agonist  adenosine_receptor_antagonist  \\\n",
       "0                           0                              0   \n",
       "1                           0                              0   \n",
       "2                           0                              0   \n",
       "3                           0                              0   \n",
       "4                           0                              0   \n",
       "\n",
       "   adenylyl_cyclase_activator  ...  tropomyosin_receptor_kinase_inhibitor  \\\n",
       "0                           0  ...                                      0   \n",
       "1                           0  ...                                      0   \n",
       "2                           0  ...                                      0   \n",
       "3                           0  ...                                      0   \n",
       "4                           0  ...                                      0   \n",
       "\n",
       "   trpv_agonist  trpv_antagonist  tubulin_inhibitor  \\\n",
       "0             0                0                  0   \n",
       "1             0                0                  0   \n",
       "2             0                0                  0   \n",
       "3             0                0                  0   \n",
       "4             0                0                  0   \n",
       "\n",
       "   tyrosine_kinase_inhibitor  ubiquitin_specific_protease_inhibitor  \\\n",
       "0                          0                                      0   \n",
       "1                          0                                      0   \n",
       "2                          0                                      0   \n",
       "3                          0                                      0   \n",
       "4                          0                                      0   \n",
       "\n",
       "   vegfr_inhibitor  vitamin_b  vitamin_d_receptor_agonist  wnt_inhibitor  \n",
       "0                0          0                           0              0  \n",
       "1                0          0                           0              0  \n",
       "2                0          0                           0              0  \n",
       "3                0          0                           0              0  \n",
       "4                0          0                           0              0  \n",
       "\n",
       "[5 rows x 207 columns]"
      ]
     },
     "execution_count": 239,
     "metadata": {},
     "output_type": "execute_result"
    }
   ],
   "source": [
    "tt_scored.head()"
   ]
  },
  {
   "cell_type": "code",
   "execution_count": 240,
   "metadata": {},
   "outputs": [
    {
     "data": {
      "text/plain": [
       "array([dtype('O'), dtype('int64'), dtype('float64')], dtype=object)"
      ]
     },
     "execution_count": 240,
     "metadata": {},
     "output_type": "execute_result"
    }
   ],
   "source": [
    "# Find total unique datatypes\n",
    "\n",
    "train_features.dtypes.unique()"
   ]
  },
  {
   "cell_type": "code",
   "execution_count": 241,
   "metadata": {},
   "outputs": [],
   "source": [
    "dfs = [test_features, train_features]"
   ]
  },
  {
   "cell_type": "code",
   "execution_count": 242,
   "metadata": {},
   "outputs": [],
   "source": [
    "# convert strings and objects to integer values\n",
    "\n",
    "def cleaner(df):\n",
    "    df['cp_type'] = df['cp_type'].map({'ctl_vehicle': 0, 'trt_cp': 1})\n",
    "    df['cp_time'] = df['cp_time'].map({24: 1, 48: 2, 72: 3})\n",
    "    df['cp_dose'] = df['cp_dose'].map({'D1': 0 , 'D2': 1})\n",
    "    return df\n",
    "\n",
    "\n",
    "for df in dfs:\n",
    "    cleaner(df)"
   ]
  },
  {
   "cell_type": "code",
   "execution_count": 243,
   "metadata": {},
   "outputs": [],
   "source": [
    "# find indicies of cp_type of 'trt_cp' to limit train & test feature dataframes \n",
    "# match train_freatures to scored features to maintain data integrity\n",
    "\n",
    "keep_idx_test = test_features[test_features.cp_type != 0].index\n",
    "keep_idx_train = train_features[train_features.cp_type != 0].index\n",
    "\n",
    "\n",
    "train_features = train_features.loc[keep_idx_train]\n",
    "tt_scored = tt_scored.loc[keep_idx_train]"
   ]
  },
  {
   "cell_type": "code",
   "execution_count": 244,
   "metadata": {},
   "outputs": [],
   "source": [
    "pipe = Pipeline([('ss', StandardScaler()), ('sgd', SGDClassifier(loss='log', max_iter=25000, n_jobs=-1, random_state=34, shuffle=True))])\n",
    "\n",
    "clf = OneVsRestClassifier(pipe, n_jobs=-1)"
   ]
  },
  {
   "cell_type": "code",
   "execution_count": 245,
   "metadata": {},
   "outputs": [],
   "source": [
    "\n",
    "X_train, X_test, y_train, y_test = train_test_split(train_features, tt_scored, test_size=.25, random_state=20)\n"
   ]
  },
  {
   "cell_type": "code",
   "execution_count": 246,
   "metadata": {},
   "outputs": [
    {
     "data": {
      "text/html": [
       "<div>\n",
       "<style scoped>\n",
       "    .dataframe tbody tr th:only-of-type {\n",
       "        vertical-align: middle;\n",
       "    }\n",
       "\n",
       "    .dataframe tbody tr th {\n",
       "        vertical-align: top;\n",
       "    }\n",
       "\n",
       "    .dataframe thead th {\n",
       "        text-align: right;\n",
       "    }\n",
       "</style>\n",
       "<table border=\"1\" class=\"dataframe\">\n",
       "  <thead>\n",
       "    <tr style=\"text-align: right;\">\n",
       "      <th></th>\n",
       "      <th>sig_id</th>\n",
       "    </tr>\n",
       "  </thead>\n",
       "  <tbody>\n",
       "    <tr>\n",
       "      <th>8546</th>\n",
       "      <td>id_5bfd8b079</td>\n",
       "    </tr>\n",
       "    <tr>\n",
       "      <th>20367</th>\n",
       "      <td>id_dab475e01</td>\n",
       "    </tr>\n",
       "    <tr>\n",
       "      <th>12759</th>\n",
       "      <td>id_896d4f2ab</td>\n",
       "    </tr>\n",
       "    <tr>\n",
       "      <th>11928</th>\n",
       "      <td>id_807933fab</td>\n",
       "    </tr>\n",
       "    <tr>\n",
       "      <th>15613</th>\n",
       "      <td>id_a7fae6323</td>\n",
       "    </tr>\n",
       "    <tr>\n",
       "      <th>...</th>\n",
       "      <td>...</td>\n",
       "    </tr>\n",
       "    <tr>\n",
       "      <th>22809</th>\n",
       "      <td>id_f4d73321b</td>\n",
       "    </tr>\n",
       "    <tr>\n",
       "      <th>7221</th>\n",
       "      <td>id_4d945ebe1</td>\n",
       "    </tr>\n",
       "    <tr>\n",
       "      <th>18244</th>\n",
       "      <td>id_c3cad17f4</td>\n",
       "    </tr>\n",
       "    <tr>\n",
       "      <th>17860</th>\n",
       "      <td>id_bfd74dc37</td>\n",
       "    </tr>\n",
       "    <tr>\n",
       "      <th>6308</th>\n",
       "      <td>id_43bb19f20</td>\n",
       "    </tr>\n",
       "  </tbody>\n",
       "</table>\n",
       "<p>5487 rows × 1 columns</p>\n",
       "</div>"
      ],
      "text/plain": [
       "             sig_id\n",
       "8546   id_5bfd8b079\n",
       "20367  id_dab475e01\n",
       "12759  id_896d4f2ab\n",
       "11928  id_807933fab\n",
       "15613  id_a7fae6323\n",
       "...             ...\n",
       "22809  id_f4d73321b\n",
       "7221   id_4d945ebe1\n",
       "18244  id_c3cad17f4\n",
       "17860  id_bfd74dc37\n",
       "6308   id_43bb19f20\n",
       "\n",
       "[5487 rows x 1 columns]"
      ]
     },
     "execution_count": 246,
     "metadata": {},
     "output_type": "execute_result"
    }
   ],
   "source": [
    "s_sigs = pd.DataFrame()\n",
    "s_sigs['sig_id'] = X_test['sig_id']\n",
    "s_sigs"
   ]
  },
  {
   "cell_type": "code",
   "execution_count": 247,
   "metadata": {},
   "outputs": [
    {
     "name": "stderr",
     "output_type": "stream",
     "text": [
      "/Users/garrettwankel/opt/anaconda3/lib/python3.7/site-packages/pandas/core/frame.py:3997: SettingWithCopyWarning:\n",
      "\n",
      "\n",
      "A value is trying to be set on a copy of a slice from a DataFrame\n",
      "\n",
      "See the caveats in the documentation: https://pandas.pydata.org/pandas-docs/stable/user_guide/indexing.html#returning-a-view-versus-a-copy\n",
      "\n"
     ]
    }
   ],
   "source": [
    "full_dfs = [train_features, test_features, X_train, X_test, y_train, y_test]\n",
    "\n",
    "def col_drop(df):\n",
    "    df = df.drop(columns=['sig_id'], axis=1, inplace=True)\n",
    "    return df\n",
    "\n",
    "for df in full_dfs:\n",
    "    col_drop(df)\n",
    "    \n",
    "tt_scored = tt_scored.drop('sig_id', 1)"
   ]
  },
  {
   "cell_type": "code",
   "execution_count": 248,
   "metadata": {},
   "outputs": [
    {
     "data": {
      "text/html": [
       "<div>\n",
       "<style scoped>\n",
       "    .dataframe tbody tr th:only-of-type {\n",
       "        vertical-align: middle;\n",
       "    }\n",
       "\n",
       "    .dataframe tbody tr th {\n",
       "        vertical-align: top;\n",
       "    }\n",
       "\n",
       "    .dataframe thead th {\n",
       "        text-align: right;\n",
       "    }\n",
       "</style>\n",
       "<table border=\"1\" class=\"dataframe\">\n",
       "  <thead>\n",
       "    <tr style=\"text-align: right;\">\n",
       "      <th></th>\n",
       "      <th>cp_type</th>\n",
       "      <th>cp_time</th>\n",
       "      <th>cp_dose</th>\n",
       "      <th>g-0</th>\n",
       "      <th>g-1</th>\n",
       "      <th>g-2</th>\n",
       "      <th>g-3</th>\n",
       "      <th>g-4</th>\n",
       "      <th>g-5</th>\n",
       "      <th>g-6</th>\n",
       "      <th>...</th>\n",
       "      <th>c-90</th>\n",
       "      <th>c-91</th>\n",
       "      <th>c-92</th>\n",
       "      <th>c-93</th>\n",
       "      <th>c-94</th>\n",
       "      <th>c-95</th>\n",
       "      <th>c-96</th>\n",
       "      <th>c-97</th>\n",
       "      <th>c-98</th>\n",
       "      <th>c-99</th>\n",
       "    </tr>\n",
       "  </thead>\n",
       "  <tbody>\n",
       "    <tr>\n",
       "      <th>18664</th>\n",
       "      <td>1</td>\n",
       "      <td>1</td>\n",
       "      <td>1</td>\n",
       "      <td>-0.0735</td>\n",
       "      <td>0.3733</td>\n",
       "      <td>1.2770</td>\n",
       "      <td>0.6550</td>\n",
       "      <td>-0.1764</td>\n",
       "      <td>-0.2977</td>\n",
       "      <td>-0.2165</td>\n",
       "      <td>...</td>\n",
       "      <td>0.8167</td>\n",
       "      <td>-0.0833</td>\n",
       "      <td>-0.1682</td>\n",
       "      <td>-0.0377</td>\n",
       "      <td>0.1315</td>\n",
       "      <td>0.0052</td>\n",
       "      <td>-0.1533</td>\n",
       "      <td>-1.0110</td>\n",
       "      <td>-0.0890</td>\n",
       "      <td>0.7696</td>\n",
       "    </tr>\n",
       "    <tr>\n",
       "      <th>8600</th>\n",
       "      <td>1</td>\n",
       "      <td>2</td>\n",
       "      <td>1</td>\n",
       "      <td>0.0083</td>\n",
       "      <td>0.4435</td>\n",
       "      <td>-0.0573</td>\n",
       "      <td>0.1381</td>\n",
       "      <td>-0.4604</td>\n",
       "      <td>-1.1820</td>\n",
       "      <td>0.4600</td>\n",
       "      <td>...</td>\n",
       "      <td>0.0500</td>\n",
       "      <td>0.0642</td>\n",
       "      <td>-0.7350</td>\n",
       "      <td>0.6670</td>\n",
       "      <td>-1.2290</td>\n",
       "      <td>-0.5958</td>\n",
       "      <td>0.0106</td>\n",
       "      <td>-0.2453</td>\n",
       "      <td>0.1824</td>\n",
       "      <td>0.6426</td>\n",
       "    </tr>\n",
       "    <tr>\n",
       "      <th>13096</th>\n",
       "      <td>1</td>\n",
       "      <td>3</td>\n",
       "      <td>1</td>\n",
       "      <td>-0.0823</td>\n",
       "      <td>-0.1980</td>\n",
       "      <td>1.0050</td>\n",
       "      <td>0.2757</td>\n",
       "      <td>0.0971</td>\n",
       "      <td>-0.9277</td>\n",
       "      <td>-0.1214</td>\n",
       "      <td>...</td>\n",
       "      <td>0.0064</td>\n",
       "      <td>0.6003</td>\n",
       "      <td>-0.3662</td>\n",
       "      <td>-0.3997</td>\n",
       "      <td>0.2637</td>\n",
       "      <td>0.9734</td>\n",
       "      <td>-0.0889</td>\n",
       "      <td>0.1995</td>\n",
       "      <td>1.4540</td>\n",
       "      <td>-0.3916</td>\n",
       "    </tr>\n",
       "    <tr>\n",
       "      <th>13545</th>\n",
       "      <td>1</td>\n",
       "      <td>1</td>\n",
       "      <td>0</td>\n",
       "      <td>0.3449</td>\n",
       "      <td>0.5996</td>\n",
       "      <td>1.2810</td>\n",
       "      <td>0.0422</td>\n",
       "      <td>0.3466</td>\n",
       "      <td>-0.4534</td>\n",
       "      <td>0.0515</td>\n",
       "      <td>...</td>\n",
       "      <td>-0.0288</td>\n",
       "      <td>-0.2130</td>\n",
       "      <td>0.2311</td>\n",
       "      <td>0.3654</td>\n",
       "      <td>0.4857</td>\n",
       "      <td>-0.7129</td>\n",
       "      <td>-0.0273</td>\n",
       "      <td>-0.2393</td>\n",
       "      <td>-0.3285</td>\n",
       "      <td>0.4582</td>\n",
       "    </tr>\n",
       "    <tr>\n",
       "      <th>8856</th>\n",
       "      <td>1</td>\n",
       "      <td>1</td>\n",
       "      <td>1</td>\n",
       "      <td>0.1213</td>\n",
       "      <td>0.5549</td>\n",
       "      <td>0.6582</td>\n",
       "      <td>0.2765</td>\n",
       "      <td>1.5400</td>\n",
       "      <td>-0.5185</td>\n",
       "      <td>0.1406</td>\n",
       "      <td>...</td>\n",
       "      <td>0.3276</td>\n",
       "      <td>0.9350</td>\n",
       "      <td>0.1076</td>\n",
       "      <td>-1.0770</td>\n",
       "      <td>-0.2597</td>\n",
       "      <td>-0.1800</td>\n",
       "      <td>-0.6838</td>\n",
       "      <td>0.1938</td>\n",
       "      <td>0.4979</td>\n",
       "      <td>0.1901</td>\n",
       "    </tr>\n",
       "  </tbody>\n",
       "</table>\n",
       "<p>5 rows × 875 columns</p>\n",
       "</div>"
      ],
      "text/plain": [
       "       cp_type  cp_time  cp_dose     g-0     g-1     g-2     g-3     g-4  \\\n",
       "18664        1        1        1 -0.0735  0.3733  1.2770  0.6550 -0.1764   \n",
       "8600         1        2        1  0.0083  0.4435 -0.0573  0.1381 -0.4604   \n",
       "13096        1        3        1 -0.0823 -0.1980  1.0050  0.2757  0.0971   \n",
       "13545        1        1        0  0.3449  0.5996  1.2810  0.0422  0.3466   \n",
       "8856         1        1        1  0.1213  0.5549  0.6582  0.2765  1.5400   \n",
       "\n",
       "          g-5     g-6  ...    c-90    c-91    c-92    c-93    c-94    c-95  \\\n",
       "18664 -0.2977 -0.2165  ...  0.8167 -0.0833 -0.1682 -0.0377  0.1315  0.0052   \n",
       "8600  -1.1820  0.4600  ...  0.0500  0.0642 -0.7350  0.6670 -1.2290 -0.5958   \n",
       "13096 -0.9277 -0.1214  ...  0.0064  0.6003 -0.3662 -0.3997  0.2637  0.9734   \n",
       "13545 -0.4534  0.0515  ... -0.0288 -0.2130  0.2311  0.3654  0.4857 -0.7129   \n",
       "8856  -0.5185  0.1406  ...  0.3276  0.9350  0.1076 -1.0770 -0.2597 -0.1800   \n",
       "\n",
       "         c-96    c-97    c-98    c-99  \n",
       "18664 -0.1533 -1.0110 -0.0890  0.7696  \n",
       "8600   0.0106 -0.2453  0.1824  0.6426  \n",
       "13096 -0.0889  0.1995  1.4540 -0.3916  \n",
       "13545 -0.0273 -0.2393 -0.3285  0.4582  \n",
       "8856  -0.6838  0.1938  0.4979  0.1901  \n",
       "\n",
       "[5 rows x 875 columns]"
      ]
     },
     "execution_count": 248,
     "metadata": {},
     "output_type": "execute_result"
    }
   ],
   "source": [
    "X_train.head()\n",
    "\n",
    "# Key:\n",
    "# ['cp_type'] = whether data is from control or active groups\n",
    "#     0 = control\n",
    "#     1 = active\n",
    "# ['cp_time'] = treatment duration time\n",
    "#     1 = 24hrs\n",
    "#     2 = 48hrs\n",
    "#     3 = 72hrs\n",
    "# ['cp_dose'] = treatment strength\n",
    "#     0 = low\n",
    "#     1 = high"
   ]
  },
  {
   "cell_type": "code",
   "execution_count": 249,
   "metadata": {},
   "outputs": [
    {
     "data": {
      "text/html": [
       "<div>\n",
       "<style scoped>\n",
       "    .dataframe tbody tr th:only-of-type {\n",
       "        vertical-align: middle;\n",
       "    }\n",
       "\n",
       "    .dataframe tbody tr th {\n",
       "        vertical-align: top;\n",
       "    }\n",
       "\n",
       "    .dataframe thead th {\n",
       "        text-align: right;\n",
       "    }\n",
       "</style>\n",
       "<table border=\"1\" class=\"dataframe\">\n",
       "  <thead>\n",
       "    <tr style=\"text-align: right;\">\n",
       "      <th></th>\n",
       "      <th>cp_type</th>\n",
       "      <th>cp_time</th>\n",
       "      <th>cp_dose</th>\n",
       "      <th>g-0</th>\n",
       "      <th>g-1</th>\n",
       "      <th>g-2</th>\n",
       "      <th>g-3</th>\n",
       "      <th>g-4</th>\n",
       "      <th>g-5</th>\n",
       "      <th>g-6</th>\n",
       "      <th>...</th>\n",
       "      <th>c-90</th>\n",
       "      <th>c-91</th>\n",
       "      <th>c-92</th>\n",
       "      <th>c-93</th>\n",
       "      <th>c-94</th>\n",
       "      <th>c-95</th>\n",
       "      <th>c-96</th>\n",
       "      <th>c-97</th>\n",
       "      <th>c-98</th>\n",
       "      <th>c-99</th>\n",
       "    </tr>\n",
       "  </thead>\n",
       "  <tbody>\n",
       "    <tr>\n",
       "      <th>8546</th>\n",
       "      <td>1</td>\n",
       "      <td>2</td>\n",
       "      <td>0</td>\n",
       "      <td>-0.4282</td>\n",
       "      <td>0.1562</td>\n",
       "      <td>-0.3904</td>\n",
       "      <td>0.3119</td>\n",
       "      <td>-0.6535</td>\n",
       "      <td>-0.3958</td>\n",
       "      <td>-0.2709</td>\n",
       "      <td>...</td>\n",
       "      <td>-1.9900</td>\n",
       "      <td>0.7424</td>\n",
       "      <td>-5.9190</td>\n",
       "      <td>-0.4328</td>\n",
       "      <td>-3.0640</td>\n",
       "      <td>-0.9153</td>\n",
       "      <td>-0.1274</td>\n",
       "      <td>-1.0760</td>\n",
       "      <td>-0.9114</td>\n",
       "      <td>-0.1077</td>\n",
       "    </tr>\n",
       "    <tr>\n",
       "      <th>20367</th>\n",
       "      <td>1</td>\n",
       "      <td>3</td>\n",
       "      <td>1</td>\n",
       "      <td>-0.5026</td>\n",
       "      <td>-1.6500</td>\n",
       "      <td>0.7571</td>\n",
       "      <td>-1.9170</td>\n",
       "      <td>-3.1020</td>\n",
       "      <td>0.4261</td>\n",
       "      <td>-2.0740</td>\n",
       "      <td>...</td>\n",
       "      <td>-5.1770</td>\n",
       "      <td>-8.3320</td>\n",
       "      <td>-3.8980</td>\n",
       "      <td>-5.4370</td>\n",
       "      <td>-7.3660</td>\n",
       "      <td>-4.8450</td>\n",
       "      <td>-6.0770</td>\n",
       "      <td>-4.3760</td>\n",
       "      <td>-4.5950</td>\n",
       "      <td>-4.2700</td>\n",
       "    </tr>\n",
       "    <tr>\n",
       "      <th>12759</th>\n",
       "      <td>1</td>\n",
       "      <td>2</td>\n",
       "      <td>0</td>\n",
       "      <td>0.0606</td>\n",
       "      <td>-0.2622</td>\n",
       "      <td>-0.3526</td>\n",
       "      <td>0.0148</td>\n",
       "      <td>-0.1116</td>\n",
       "      <td>-0.0960</td>\n",
       "      <td>0.3614</td>\n",
       "      <td>...</td>\n",
       "      <td>0.2637</td>\n",
       "      <td>-1.5270</td>\n",
       "      <td>0.2813</td>\n",
       "      <td>-0.2619</td>\n",
       "      <td>-0.0631</td>\n",
       "      <td>-0.2409</td>\n",
       "      <td>-0.1968</td>\n",
       "      <td>0.0988</td>\n",
       "      <td>-0.4827</td>\n",
       "      <td>-0.9247</td>\n",
       "    </tr>\n",
       "    <tr>\n",
       "      <th>11928</th>\n",
       "      <td>1</td>\n",
       "      <td>3</td>\n",
       "      <td>0</td>\n",
       "      <td>0.4284</td>\n",
       "      <td>0.2543</td>\n",
       "      <td>0.5108</td>\n",
       "      <td>-0.4880</td>\n",
       "      <td>0.4187</td>\n",
       "      <td>-0.8920</td>\n",
       "      <td>0.9325</td>\n",
       "      <td>...</td>\n",
       "      <td>0.6248</td>\n",
       "      <td>0.3146</td>\n",
       "      <td>0.1212</td>\n",
       "      <td>0.5807</td>\n",
       "      <td>0.5878</td>\n",
       "      <td>0.1285</td>\n",
       "      <td>0.5445</td>\n",
       "      <td>0.1760</td>\n",
       "      <td>0.0358</td>\n",
       "      <td>0.2980</td>\n",
       "    </tr>\n",
       "    <tr>\n",
       "      <th>15613</th>\n",
       "      <td>1</td>\n",
       "      <td>2</td>\n",
       "      <td>0</td>\n",
       "      <td>-0.7766</td>\n",
       "      <td>0.9036</td>\n",
       "      <td>-0.9348</td>\n",
       "      <td>-0.9568</td>\n",
       "      <td>-0.4039</td>\n",
       "      <td>-1.7850</td>\n",
       "      <td>-0.6355</td>\n",
       "      <td>...</td>\n",
       "      <td>-0.2938</td>\n",
       "      <td>-0.6273</td>\n",
       "      <td>0.2365</td>\n",
       "      <td>-0.2955</td>\n",
       "      <td>-0.4189</td>\n",
       "      <td>-0.8607</td>\n",
       "      <td>-0.0817</td>\n",
       "      <td>-0.0431</td>\n",
       "      <td>0.0254</td>\n",
       "      <td>-0.4186</td>\n",
       "    </tr>\n",
       "  </tbody>\n",
       "</table>\n",
       "<p>5 rows × 875 columns</p>\n",
       "</div>"
      ],
      "text/plain": [
       "       cp_type  cp_time  cp_dose     g-0     g-1     g-2     g-3     g-4  \\\n",
       "8546         1        2        0 -0.4282  0.1562 -0.3904  0.3119 -0.6535   \n",
       "20367        1        3        1 -0.5026 -1.6500  0.7571 -1.9170 -3.1020   \n",
       "12759        1        2        0  0.0606 -0.2622 -0.3526  0.0148 -0.1116   \n",
       "11928        1        3        0  0.4284  0.2543  0.5108 -0.4880  0.4187   \n",
       "15613        1        2        0 -0.7766  0.9036 -0.9348 -0.9568 -0.4039   \n",
       "\n",
       "          g-5     g-6  ...    c-90    c-91    c-92    c-93    c-94    c-95  \\\n",
       "8546  -0.3958 -0.2709  ... -1.9900  0.7424 -5.9190 -0.4328 -3.0640 -0.9153   \n",
       "20367  0.4261 -2.0740  ... -5.1770 -8.3320 -3.8980 -5.4370 -7.3660 -4.8450   \n",
       "12759 -0.0960  0.3614  ...  0.2637 -1.5270  0.2813 -0.2619 -0.0631 -0.2409   \n",
       "11928 -0.8920  0.9325  ...  0.6248  0.3146  0.1212  0.5807  0.5878  0.1285   \n",
       "15613 -1.7850 -0.6355  ... -0.2938 -0.6273  0.2365 -0.2955 -0.4189 -0.8607   \n",
       "\n",
       "         c-96    c-97    c-98    c-99  \n",
       "8546  -0.1274 -1.0760 -0.9114 -0.1077  \n",
       "20367 -6.0770 -4.3760 -4.5950 -4.2700  \n",
       "12759 -0.1968  0.0988 -0.4827 -0.9247  \n",
       "11928  0.5445  0.1760  0.0358  0.2980  \n",
       "15613 -0.0817 -0.0431  0.0254 -0.4186  \n",
       "\n",
       "[5 rows x 875 columns]"
      ]
     },
     "execution_count": 249,
     "metadata": {},
     "output_type": "execute_result"
    }
   ],
   "source": [
    "X_test.head()\n",
    "\n",
    "# Key:\n",
    "# ['cp_type'] = whether data is from control or active groups\n",
    "#     0 = control\n",
    "#     1 = active\n",
    "# ['cp_time'] = treatment duration time\n",
    "#     1 = 24hrs\n",
    "#     2 = 48hrs\n",
    "#     3 = 72hrs\n",
    "# ['cp_dose'] = treatment strength\n",
    "#     0 = low\n",
    "#     1 = high "
   ]
  },
  {
   "cell_type": "code",
   "execution_count": 250,
   "metadata": {},
   "outputs": [],
   "source": [
    "# create column list for both DataFrames, as well as separate DataFrames for Gene Expression columns\n",
    "# and Cell Viability columns\n",
    "\n",
    "g_cols = [col for col in train_features if 'g-' in col]\n",
    "c_cols = [col for col in train_features if 'c-' in col]\n",
    "\n",
    "gene_df = train_features.loc[:, 'g-0':'g-771']\n",
    "cell_df = train_features.loc[:, 'c-0':]\n",
    "    "
   ]
  },
  {
   "cell_type": "code",
   "execution_count": 251,
   "metadata": {},
   "outputs": [
    {
     "name": "stdout",
     "output_type": "stream",
     "text": [
      "The column with the most identical expression values is:  g-104 with 4420 identical expression values, at 0.0 level of interactivity.\n",
      "The column with the least identical expression values is:  g-175 with 9 identical expression values, at 0.0 level of interactivity.\n"
     ]
    },
    {
     "data": {
      "image/png": "[encoded data removed]",
      "text/plain": [
       "<Figure size 432x288 with 1 Axes>"
      ]
     },
     "metadata": {
      "needs_background": "light"
     },
     "output_type": "display_data"
    },
    {
     "name": "stdout",
     "output_type": "stream",
     "text": [
      "The column with the most identical expression values is:  c-93 with 465 identical expression values, at -10.0 level of interactivity.\n",
      "The column with the least identical expression values is:  c-50 with 20 identical expression values, at -10.0 level of interactivity.\n"
     ]
    },
    {
     "data": {
      "image/png": "[encoded data removed]",
      "text/plain": [
       "<Figure size 432x288 with 1 Axes>"
      ]
     },
     "metadata": {
      "needs_background": "light"
     },
     "output_type": "display_data"
    }
   ],
   "source": [
    "# Create Function to iterate through dataframes and extract values from unique columns\n",
    "\n",
    "exp_dfs = [gene_df, cell_df]\n",
    "\n",
    "def finder(df):\n",
    "    most_in_common = df.loc[:].nunique().idxmin()\n",
    "    least_in_common = df.loc[:].nunique().idxmax() \n",
    "    \n",
    "    most_count = np.unique(df.loc[:, most_in_common], return_counts=True)\n",
    "    least_count = np.unique(df.loc[:, least_in_common], return_counts=True)\n",
    "    most_count = most_count[1].max()\n",
    "    least_count = least_count[1].max()\n",
    "    \n",
    "    subset_df = df.loc[:, most_in_common].to_frame()\n",
    "    most_common_int = subset_df.pivot_table(index=[most_in_common], aggfunc='size').idxmax()\n",
    "    subset_df2 = df.loc[:, least_in_common].to_frame()\n",
    "    most_variable_int = subset_df2.pivot_table(index=[least_in_common], aggfunc='size').idxmax()\n",
    "    return most_in_common, least_in_common, most_count, least_count, most_common_int, most_variable_int\n",
    "\n",
    "\n",
    "for df in exp_dfs:\n",
    "    values = finder(df)\n",
    "    val1 = [values[0], values[1]]\n",
    "    val2 = [values[2], values[4]]\n",
    "    print('The column with the most identical expression values is: ', values[0], 'with', values[2], 'identical expression values, at', values[4], 'level of interactivity.')\n",
    "    print('The column with the least identical expression values is: ', values[1], 'with', values[3], 'identical expression values, at', values[5], 'level of interactivity.')\n",
    "    plt.bar(val1, val2)\n",
    "    plt.show()\n",
    "    "
   ]
  },
  {
   "cell_type": "code",
   "execution_count": 252,
   "metadata": {},
   "outputs": [
    {
     "name": "stdout",
     "output_type": "stream",
     "text": [
      "(14317, 11318)\n",
      "(14293, 653)\n"
     ]
    }
   ],
   "source": [
    "# very little variance among total cell expression unique values versus gene expression unique values\n",
    "\n",
    "def variance(df):\n",
    "    \n",
    "    cols = df.nunique()\n",
    "    x = cols.sort_values()\n",
    "\n",
    "    return x[-1], x[-1] - x[0]\n",
    "\n",
    "for df in exp_dfs:\n",
    "    difference = variance(df)\n",
    "    print(difference)"
   ]
  },
  {
   "cell_type": "code",
   "execution_count": 253,
   "metadata": {},
   "outputs": [
    {
     "data": {
      "text/plain": [
       "g-0      13705\n",
       "g-1      13283\n",
       "g-2      13508\n",
       "g-3      12239\n",
       "g-4      13370\n",
       "         ...  \n",
       "g-767    13530\n",
       "g-768    11087\n",
       "g-769    13406\n",
       "g-770    13696\n",
       "g-771    13812\n",
       "Length: 772, dtype: int64"
      ]
     },
     "execution_count": 253,
     "metadata": {},
     "output_type": "execute_result"
    }
   ],
   "source": [
    "def val_scatter(gene_df):\n",
    "    \n",
    "    all_unique_val = gene_df.loc[:].nunique()\n",
    "    return all_unique_val\n",
    "\n",
    "    plt.bar(g_cols, val_scatter(gene_df))\n",
    "    plt.tight_layout()\n",
    "    plt.show()\n",
    "\n",
    "val_scatter(gene_df)"
   ]
  },
  {
   "cell_type": "code",
   "execution_count": 254,
   "metadata": {},
   "outputs": [
    {
     "data": {
      "image/png": "[encoded data removed]",
      "text/plain": [
       "<Figure size 432x288 with 1 Axes>"
      ]
     },
     "metadata": {
      "needs_background": "light"
     },
     "output_type": "display_data"
    },
    {
     "data": {
      "image/png": "[encoded data removed]",
      "text/plain": [
       "<Figure size 432x288 with 1 Axes>"
      ]
     },
     "metadata": {
      "needs_background": "light"
     },
     "output_type": "display_data"
    }
   ],
   "source": [
    "def variation_plotter(df):\n",
    "\n",
    "    cols = df.loc[:].nunique()\n",
    "\n",
    "    x = cols.sort_values()\n",
    "    x = dict(x) \n",
    "    unique_vals = x.values()\n",
    "\n",
    "    plt.hist(unique_vals, bins=100)\n",
    "    plt.show()\n",
    "    \n",
    "for df in exp_dfs:\n",
    "    variation_plotter(df)"
   ]
  },
  {
   "cell_type": "code",
   "execution_count": 255,
   "metadata": {},
   "outputs": [
    {
     "data": {
      "text/plain": [
       "('g-104', 'g-175')"
      ]
     },
     "execution_count": 255,
     "metadata": {},
     "output_type": "execute_result"
    }
   ],
   "source": [
    "g = gene_df.loc[:].nunique()\n",
    "\n",
    "g.idxmin(),g.idxmax()\n"
   ]
  },
  {
   "cell_type": "code",
   "execution_count": 256,
   "metadata": {},
   "outputs": [
    {
     "name": "stdout",
     "output_type": "stream",
     "text": [
      "[ 570  571 4420]\n",
      "[ 10  10 465]\n"
     ]
    }
   ],
   "source": [
    "# Top 3 identical expression values with their interactivity among gene/cell with highest identical expression values\n",
    "\n",
    "# 'g-104' & 'c-93'\n",
    "\n",
    "def top_three(df):\n",
    "    most_in_common = df.loc[:].nunique().idxmin()\n",
    "    most_count = np.unique(df.loc[:, most_in_common], return_counts=True)\n",
    "    mc = most_count[1]\n",
    "    mc.sort()\n",
    "    return mc[-3:]\n",
    "    \n",
    "    \n",
    "for df in exp_dfs:\n",
    "    print(top_three(df))"
   ]
  },
  {
   "cell_type": "code",
   "execution_count": 257,
   "metadata": {},
   "outputs": [
    {
     "data": {
      "text/plain": [
       "OneVsRestClassifier(estimator=Pipeline(steps=[('ss', StandardScaler()),\n",
       "                                              ('sgd',\n",
       "                                               SGDClassifier(loss='log',\n",
       "                                                             max_iter=25000,\n",
       "                                                             n_jobs=-1,\n",
       "                                                             random_state=34))]),\n",
       "                    n_jobs=-1)"
      ]
     },
     "execution_count": 257,
     "metadata": {},
     "output_type": "execute_result"
    }
   ],
   "source": [
    "clf.fit(X_train, y_train)\n"
   ]
  },
  {
   "cell_type": "code",
   "execution_count": 258,
   "metadata": {},
   "outputs": [
    {
     "data": {
      "text/plain": [
       "True"
      ]
     },
     "execution_count": 258,
     "metadata": {},
     "output_type": "execute_result"
    }
   ],
   "source": [
    "clf.multilabel_"
   ]
  },
  {
   "cell_type": "code",
   "execution_count": 259,
   "metadata": {},
   "outputs": [],
   "source": [
    "preds = clf.predict(X_test)"
   ]
  },
  {
   "cell_type": "code",
   "execution_count": 260,
   "metadata": {},
   "outputs": [
    {
     "data": {
      "text/plain": [
       "(5487, 206)"
      ]
     },
     "execution_count": 260,
     "metadata": {},
     "output_type": "execute_result"
    }
   ],
   "source": [
    "preds.shape"
   ]
  },
  {
   "cell_type": "code",
   "execution_count": 261,
   "metadata": {},
   "outputs": [],
   "source": [
    "log_score = log_loss(np.ravel(y_test), np.ravel(preds))\n",
    "acc_score = accuracy_score(y_test, preds, normalize=True)"
   ]
  },
  {
   "cell_type": "code",
   "execution_count": 262,
   "metadata": {},
   "outputs": [
    {
     "data": {
      "text/plain": [
       "(0.13622199544817404, 0.40386367778385274)"
      ]
     },
     "execution_count": 262,
     "metadata": {},
     "output_type": "execute_result"
    }
   ],
   "source": [
    "log_score, acc_score"
   ]
  },
  {
   "cell_type": "code",
   "execution_count": 263,
   "metadata": {},
   "outputs": [
    {
     "data": {
      "application/vnd.plotly.v1+json": {
       "config": {
        "plotlyServerURL": "https://plot.ly"
       },
       "data": [
        {
         "alignmentgroup": "True",
         "hovertemplate": "total_count_present=%{x}<br>drug_class=%{y}<extra></extra>",
         "legendgroup": "",
         "marker": {
          "color": "#636efa"
         },
         "name": "",
         "offsetgroup": "",
         "orientation": "h",
         "showlegend": false,
         "textposition": "auto",
         "type": "bar",
         "x": [
          832,
          726,
          435,
          424,
          404,
          402,
          367,
          360,
          340,
          336,
          316,
          301,
          297,
          283,
          281,
          279,
          273,
          270,
          267,
          266,
          264,
          241,
          236,
          223,
          192,
          190,
          170,
          165,
          158,
          151,
          130,
          127,
          121,
          119,
          115,
          115,
          106,
          106,
          104,
          103,
          102,
          98,
          97,
          96,
          96,
          96,
          93,
          92,
          89,
          89,
          85,
          84,
          80,
          80,
          74,
          74,
          73,
          73,
          73,
          73,
          73,
          72,
          72,
          72,
          71,
          68,
          67,
          67,
          66,
          62,
          62,
          61,
          61,
          61,
          60,
          60,
          60,
          59,
          56,
          56,
          55,
          55,
          54,
          54,
          54,
          51,
          50,
          49,
          48,
          48,
          48,
          48,
          48,
          48,
          48,
          47,
          44,
          43,
          42,
          42,
          42,
          42,
          39,
          38,
          37,
          37,
          37,
          37,
          37,
          37,
          36,
          36,
          36,
          36,
          36,
          36,
          36,
          36,
          36,
          36,
          36,
          36,
          35,
          32,
          31,
          31,
          31,
          31,
          30,
          30,
          30,
          30,
          30,
          30,
          29,
          26,
          26,
          26,
          25,
          25,
          25,
          25,
          25,
          25,
          25,
          25,
          24,
          24,
          24,
          24,
          24,
          23,
          23,
          19,
          19,
          19,
          19,
          18,
          18,
          18,
          18,
          18,
          18,
          18,
          18,
          18,
          18,
          18,
          18,
          18,
          17,
          13,
          13,
          12,
          12,
          12,
          12,
          12,
          12,
          12,
          12,
          12,
          12,
          12,
          7,
          7,
          7,
          7,
          6,
          6,
          6,
          6,
          6,
          6,
          6,
          6,
          6,
          6,
          6,
          6,
          6,
          6,
          6,
          6,
          1,
          1
         ],
         "xaxis": "x",
         "y": [
          "nfkb_inhibitor",
          "proteasome_inhibitor",
          "cyclooxygenase_inhibitor",
          "dopamine_receptor_antagonist",
          "serotonin_receptor_antagonist",
          "dna_inhibitor",
          "glutamate_receptor_antagonist",
          "adrenergic_receptor_antagonist",
          "cdk_inhibitor",
          "egfr_inhibitor",
          "tubulin_inhibitor",
          "acetylcholine_receptor_antagonist",
          "pdgfr_inhibitor",
          "hmgcr_inhibitor",
          "calcium_channel_blocker",
          "flt3_inhibitor",
          "kit_inhibitor",
          "adrenergic_receptor_agonist",
          "sodium_channel_inhibitor",
          "glucocorticoid_receptor_agonist",
          "phosphodiesterase_inhibitor",
          "histamine_receptor_antagonist",
          "serotonin_receptor_agonist",
          "raf_inhibitor",
          "bacterial_cell_wall_synthesis_inhibitor",
          "acetylcholine_receptor_agonist",
          "vegfr_inhibitor",
          "gaba_receptor_antagonist",
          "estrogen_receptor_agonist",
          "pi3k_inhibitor",
          "mtor_inhibitor",
          "topoisomerase_inhibitor",
          "dopamine_receptor_agonist",
          "progesterone_receptor_agonist",
          "ppar_receptor_agonist",
          "bacterial_dna_inhibitor",
          "gaba_receptor_agonist",
          "hdac_inhibitor",
          "cytochrome_p450_inhibitor",
          "protein_synthesis_inhibitor",
          "cc_chemokine_receptor_antagonist",
          "potassium_channel_antagonist",
          "atpase_inhibitor",
          "aurora_kinase_inhibitor",
          "adenosine_receptor_antagonist",
          "opioid_receptor_antagonist",
          "hsp_inhibitor",
          "jak_inhibitor",
          "androgen_receptor_antagonist",
          "bacterial_dna_gyrase_inhibitor",
          "monoamine_oxidase_inhibitor",
          "prostanoid_receptor_antagonist",
          "anesthetic_-_local",
          "bacterial_50s_ribosomal_subunit_inhibitor",
          "membrane_integrity_inhibitor",
          "glutamate_receptor_agonist",
          "tyrosine_kinase_inhibitor",
          "anti-inflammatory",
          "acetylcholinesterase_inhibitor",
          "antioxidant",
          "immunosuppressant",
          "mek_inhibitor",
          "hiv_inhibitor",
          "hcv_inhibitor",
          "src_inhibitor",
          "bromodomain_inhibitor",
          "retinoid_receptor_agonist",
          "benzodiazepine_receptor_agonist",
          "akt_inhibitor",
          "p38_mapk_inhibitor",
          "leukotriene_receptor_antagonist",
          "opioid_receptor_agonist",
          "parp_inhibitor",
          "lipoxygenase_inhibitor",
          "bacterial_30s_ribosomal_subunit_inhibitor",
          "tachykinin_antagonist",
          "gsk_inhibitor",
          "histamine_receptor_agonist",
          "gamma_secretase_inhibitor",
          "radiopaque_medium",
          "potassium_channel_activator",
          "cannabinoid_receptor_antagonist",
          "cholinergic_receptor_antagonist",
          "chelating_agent",
          "adenosine_receptor_agonist",
          "insulin_sensitizer",
          "fgfr_inhibitor",
          "apoptosis_stimulant",
          "protein_kinase_inhibitor",
          "dna_alkylating_agent",
          "trpv_antagonist",
          "androgen_receptor_agonist",
          "mucolytic_agent",
          "estrogen_receptor_antagonist",
          "cholesterol_inhibitor",
          "aromatase_inhibitor",
          "serotonin_reuptake_inhibitor",
          "antibiotic",
          "alk_inhibitor",
          "integrin_inhibitor",
          "cannabinoid_receptor_agonist",
          "chloride_channel_blocker",
          "vitamin_d_receptor_agonist",
          "bcr-abl_inhibitor",
          "neuropeptide_receptor_antagonist",
          "ribonucleoside_reductase_inhibitor",
          "igf-1_inhibitor",
          "orexin_receptor_antagonist",
          "thymidylate_synthase_inhibitor",
          "angiotensin_receptor_antagonist",
          "corticosteroid_agonist",
          "faah_inhibitor",
          "tnf_inhibitor",
          "dihydrofolate_reductase_inhibitor",
          "bacterial_antifolate",
          "angiogenesis_inhibitor",
          "sigma_receptor_antagonist",
          "sigma_receptor_agonist",
          "casein_kinase_inhibitor",
          "antiprotozoal",
          "carbonic_anhydrase_inhibitor",
          "prostaglandin_inhibitor",
          "rho_associated_kinase_inhibitor",
          "histone_lysine_methyltransferase_inhibitor",
          "imidazoline_receptor_agonist",
          "mdm_inhibitor",
          "pkc_inhibitor",
          "bcl_inhibitor",
          "wnt_inhibitor",
          "tlr_agonist",
          "ikk_inhibitor",
          "tgf-beta_receptor_inhibitor",
          "ppar_receptor_antagonist",
          "insulin_secretagogue",
          "btk_inhibitor",
          "nitric_oxide_synthase_inhibitor",
          "nitric_oxide_donor",
          "vitamin_b",
          "rna_polymerase_inhibitor",
          "smoothened_receptor_antagonist",
          "sphingosine_receptor_agonist",
          "mineralocorticoid_receptor_antagonist",
          "trpv_agonist",
          "phospholipase_inhibitor",
          "dipeptidyl_peptidase_inhibitor",
          "fatty_acid_receptor_agonist",
          "acat_inhibitor",
          "chk_inhibitor",
          "histone_lysine_demethylase_inhibitor",
          "beta_amyloid_inhibitor",
          "p-glycoprotein_inhibitor",
          "antiviral",
          "fungal_squalene_epoxidase_inhibitor",
          "protein_tyrosine_kinase_inhibitor",
          "syk_inhibitor",
          "thrombin_inhibitor",
          "atr_kinase_inhibitor",
          "antimalarial",
          "nrf2_activator",
          "progesterone_receptor_antagonist",
          "cck_receptor_antagonist",
          "monopolar_spindle_1_kinase_inhibitor",
          "11-beta-hsd1_inhibitor",
          "farnesyltransferase_inhibitor",
          "focal_adhesion_kinase_inhibitor",
          "free_radical_scavenger",
          "transient_receptor_potential_channel_antagonist",
          "gonadotropin_receptor_agonist",
          "caspase_activator",
          "pdk_inhibitor",
          "5-alpha_reductase_inhibitor",
          "glutamate_inhibitor",
          "antifungal",
          "ras_gtpase_inhibitor",
          "monoacylglycerol_lipase_inhibitor",
          "atp_synthase_inhibitor",
          "ampk_activator",
          "analgesic",
          "nitric_oxide_production_inhibitor",
          "antihistamine",
          "anticonvulsant",
          "lipase_inhibitor",
          "catechol_o_methyltransferase_inhibitor",
          "adenylyl_cyclase_activator",
          "tlr_antagonist",
          "aldehyde_dehydrogenase_inhibitor",
          "bacterial_membrane_integrity_inhibitor",
          "norepinephrine_reuptake_inhibitor",
          "laxative",
          "tropomyosin_receptor_kinase_inhibitor",
          "ubiquitin_specific_protease_inhibitor",
          "coagulation_factor_inhibitor",
          "leukotriene_inhibitor",
          "steroid",
          "elastase_inhibitor",
          "lxr_agonist",
          "calcineurin_inhibitor",
          "atm_kinase_inhibitor",
          "nicotinic_receptor_agonist",
          "retinoid_receptor_antagonist",
          "antiarrhythmic",
          "protein_phosphatase_inhibitor",
          "autotaxin_inhibitor",
          "diuretic",
          "erbb2_inhibitor",
          "atp-sensitive_potassium_channel_antagonist"
         ],
         "yaxis": "y"
        }
       ],
       "layout": {
        "barmode": "relative",
        "height": 1200,
        "legend": {
         "tracegroupgap": 0
        },
        "margin": {
         "t": 60
        },
        "template": {
         "data": {
          "bar": [
           {
            "error_x": {
             "color": "#2a3f5f"
            },
            "error_y": {
             "color": "#2a3f5f"
            },
            "marker": {
             "line": {
              "color": "#E5ECF6",
              "width": 0.5
             }
            },
            "type": "bar"
           }
          ],
          "barpolar": [
           {
            "marker": {
             "line": {
              "color": "#E5ECF6",
              "width": 0.5
             }
            },
            "type": "barpolar"
           }
          ],
          "carpet": [
           {
            "aaxis": {
             "endlinecolor": "#2a3f5f",
             "gridcolor": "white",
             "linecolor": "white",
             "minorgridcolor": "white",
             "startlinecolor": "#2a3f5f"
            },
            "baxis": {
             "endlinecolor": "#2a3f5f",
             "gridcolor": "white",
             "linecolor": "white",
             "minorgridcolor": "white",
             "startlinecolor": "#2a3f5f"
            },
            "type": "carpet"
           }
          ],
          "choropleth": [
           {
            "colorbar": {
             "outlinewidth": 0,
             "ticks": ""
            },
            "type": "choropleth"
           }
          ],
          "contour": [
           {
            "colorbar": {
             "outlinewidth": 0,
             "ticks": ""
            },
            "colorscale": [
             [
              0,
              "#0d0887"
             ],
             [
              0.1111111111111111,
              "#46039f"
             ],
             [
              0.2222222222222222,
              "#7201a8"
             ],
             [
              0.3333333333333333,
              "#9c179e"
             ],
             [
              0.4444444444444444,
              "#bd3786"
             ],
             [
              0.5555555555555556,
              "#d8576b"
             ],
             [
              0.6666666666666666,
              "#ed7953"
             ],
             [
              0.7777777777777778,
              "#fb9f3a"
             ],
             [
              0.8888888888888888,
              "#fdca26"
             ],
             [
              1,
              "#f0f921"
             ]
            ],
            "type": "contour"
           }
          ],
          "contourcarpet": [
           {
            "colorbar": {
             "outlinewidth": 0,
             "ticks": ""
            },
            "type": "contourcarpet"
           }
          ],
          "heatmap": [
           {
            "colorbar": {
             "outlinewidth": 0,
             "ticks": ""
            },
            "colorscale": [
             [
              0,
              "#0d0887"
             ],
             [
              0.1111111111111111,
              "#46039f"
             ],
             [
              0.2222222222222222,
              "#7201a8"
             ],
             [
              0.3333333333333333,
              "#9c179e"
             ],
             [
              0.4444444444444444,
              "#bd3786"
             ],
             [
              0.5555555555555556,
              "#d8576b"
             ],
             [
              0.6666666666666666,
              "#ed7953"
             ],
             [
              0.7777777777777778,
              "#fb9f3a"
             ],
             [
              0.8888888888888888,
              "#fdca26"
             ],
             [
              1,
              "#f0f921"
             ]
            ],
            "type": "heatmap"
           }
          ],
          "heatmapgl": [
           {
            "colorbar": {
             "outlinewidth": 0,
             "ticks": ""
            },
            "colorscale": [
             [
              0,
              "#0d0887"
             ],
             [
              0.1111111111111111,
              "#46039f"
             ],
             [
              0.2222222222222222,
              "#7201a8"
             ],
             [
              0.3333333333333333,
              "#9c179e"
             ],
             [
              0.4444444444444444,
              "#bd3786"
             ],
             [
              0.5555555555555556,
              "#d8576b"
             ],
             [
              0.6666666666666666,
              "#ed7953"
             ],
             [
              0.7777777777777778,
              "#fb9f3a"
             ],
             [
              0.8888888888888888,
              "#fdca26"
             ],
             [
              1,
              "#f0f921"
             ]
            ],
            "type": "heatmapgl"
           }
          ],
          "histogram": [
           {
            "marker": {
             "colorbar": {
              "outlinewidth": 0,
              "ticks": ""
             }
            },
            "type": "histogram"
           }
          ],
          "histogram2d": [
           {
            "colorbar": {
             "outlinewidth": 0,
             "ticks": ""
            },
            "colorscale": [
             [
              0,
              "#0d0887"
             ],
             [
              0.1111111111111111,
              "#46039f"
             ],
             [
              0.2222222222222222,
              "#7201a8"
             ],
             [
              0.3333333333333333,
              "#9c179e"
             ],
             [
              0.4444444444444444,
              "#bd3786"
             ],
             [
              0.5555555555555556,
              "#d8576b"
             ],
             [
              0.6666666666666666,
              "#ed7953"
             ],
             [
              0.7777777777777778,
              "#fb9f3a"
             ],
             [
              0.8888888888888888,
              "#fdca26"
             ],
             [
              1,
              "#f0f921"
             ]
            ],
            "type": "histogram2d"
           }
          ],
          "histogram2dcontour": [
           {
            "colorbar": {
             "outlinewidth": 0,
             "ticks": ""
            },
            "colorscale": [
             [
              0,
              "#0d0887"
             ],
             [
              0.1111111111111111,
              "#46039f"
             ],
             [
              0.2222222222222222,
              "#7201a8"
             ],
             [
              0.3333333333333333,
              "#9c179e"
             ],
             [
              0.4444444444444444,
              "#bd3786"
             ],
             [
              0.5555555555555556,
              "#d8576b"
             ],
             [
              0.6666666666666666,
              "#ed7953"
             ],
             [
              0.7777777777777778,
              "#fb9f3a"
             ],
             [
              0.8888888888888888,
              "#fdca26"
             ],
             [
              1,
              "#f0f921"
             ]
            ],
            "type": "histogram2dcontour"
           }
          ],
          "mesh3d": [
           {
            "colorbar": {
             "outlinewidth": 0,
             "ticks": ""
            },
            "type": "mesh3d"
           }
          ],
          "parcoords": [
           {
            "line": {
             "colorbar": {
              "outlinewidth": 0,
              "ticks": ""
             }
            },
            "type": "parcoords"
           }
          ],
          "pie": [
           {
            "automargin": true,
            "type": "pie"
           }
          ],
          "scatter": [
           {
            "marker": {
             "colorbar": {
              "outlinewidth": 0,
              "ticks": ""
             }
            },
            "type": "scatter"
           }
          ],
          "scatter3d": [
           {
            "line": {
             "colorbar": {
              "outlinewidth": 0,
              "ticks": ""
             }
            },
            "marker": {
             "colorbar": {
              "outlinewidth": 0,
              "ticks": ""
             }
            },
            "type": "scatter3d"
           }
          ],
          "scattercarpet": [
           {
            "marker": {
             "colorbar": {
              "outlinewidth": 0,
              "ticks": ""
             }
            },
            "type": "scattercarpet"
           }
          ],
          "scattergeo": [
           {
            "marker": {
             "colorbar": {
              "outlinewidth": 0,
              "ticks": ""
             }
            },
            "type": "scattergeo"
           }
          ],
          "scattergl": [
           {
            "marker": {
             "colorbar": {
              "outlinewidth": 0,
              "ticks": ""
             }
            },
            "type": "scattergl"
           }
          ],
          "scattermapbox": [
           {
            "marker": {
             "colorbar": {
              "outlinewidth": 0,
              "ticks": ""
             }
            },
            "type": "scattermapbox"
           }
          ],
          "scatterpolar": [
           {
            "marker": {
             "colorbar": {
              "outlinewidth": 0,
              "ticks": ""
             }
            },
            "type": "scatterpolar"
           }
          ],
          "scatterpolargl": [
           {
            "marker": {
             "colorbar": {
              "outlinewidth": 0,
              "ticks": ""
             }
            },
            "type": "scatterpolargl"
           }
          ],
          "scatterternary": [
           {
            "marker": {
             "colorbar": {
              "outlinewidth": 0,
              "ticks": ""
             }
            },
            "type": "scatterternary"
           }
          ],
          "surface": [
           {
            "colorbar": {
             "outlinewidth": 0,
             "ticks": ""
            },
            "colorscale": [
             [
              0,
              "#0d0887"
             ],
             [
              0.1111111111111111,
              "#46039f"
             ],
             [
              0.2222222222222222,
              "#7201a8"
             ],
             [
              0.3333333333333333,
              "#9c179e"
             ],
             [
              0.4444444444444444,
              "#bd3786"
             ],
             [
              0.5555555555555556,
              "#d8576b"
             ],
             [
              0.6666666666666666,
              "#ed7953"
             ],
             [
              0.7777777777777778,
              "#fb9f3a"
             ],
             [
              0.8888888888888888,
              "#fdca26"
             ],
             [
              1,
              "#f0f921"
             ]
            ],
            "type": "surface"
           }
          ],
          "table": [
           {
            "cells": {
             "fill": {
              "color": "#EBF0F8"
             },
             "line": {
              "color": "white"
             }
            },
            "header": {
             "fill": {
              "color": "#C8D4E3"
             },
             "line": {
              "color": "white"
             }
            },
            "type": "table"
           }
          ]
         },
         "layout": {
          "annotationdefaults": {
           "arrowcolor": "#2a3f5f",
           "arrowhead": 0,
           "arrowwidth": 1
          },
          "coloraxis": {
           "colorbar": {
            "outlinewidth": 0,
            "ticks": ""
           }
          },
          "colorscale": {
           "diverging": [
            [
             0,
             "#8e0152"
            ],
            [
             0.1,
             "#c51b7d"
            ],
            [
             0.2,
             "#de77ae"
            ],
            [
             0.3,
             "#f1b6da"
            ],
            [
             0.4,
             "#fde0ef"
            ],
            [
             0.5,
             "#f7f7f7"
            ],
            [
             0.6,
             "#e6f5d0"
            ],
            [
             0.7,
             "#b8e186"
            ],
            [
             0.8,
             "#7fbc41"
            ],
            [
             0.9,
             "#4d9221"
            ],
            [
             1,
             "#276419"
            ]
           ],
           "sequential": [
            [
             0,
             "#0d0887"
            ],
            [
             0.1111111111111111,
             "#46039f"
            ],
            [
             0.2222222222222222,
             "#7201a8"
            ],
            [
             0.3333333333333333,
             "#9c179e"
            ],
            [
             0.4444444444444444,
             "#bd3786"
            ],
            [
             0.5555555555555556,
             "#d8576b"
            ],
            [
             0.6666666666666666,
             "#ed7953"
            ],
            [
             0.7777777777777778,
             "#fb9f3a"
            ],
            [
             0.8888888888888888,
             "#fdca26"
            ],
            [
             1,
             "#f0f921"
            ]
           ],
           "sequentialminus": [
            [
             0,
             "#0d0887"
            ],
            [
             0.1111111111111111,
             "#46039f"
            ],
            [
             0.2222222222222222,
             "#7201a8"
            ],
            [
             0.3333333333333333,
             "#9c179e"
            ],
            [
             0.4444444444444444,
             "#bd3786"
            ],
            [
             0.5555555555555556,
             "#d8576b"
            ],
            [
             0.6666666666666666,
             "#ed7953"
            ],
            [
             0.7777777777777778,
             "#fb9f3a"
            ],
            [
             0.8888888888888888,
             "#fdca26"
            ],
            [
             1,
             "#f0f921"
            ]
           ]
          },
          "colorway": [
           "#636efa",
           "#EF553B",
           "#00cc96",
           "#ab63fa",
           "#FFA15A",
           "#19d3f3",
           "#FF6692",
           "#B6E880",
           "#FF97FF",
           "#FECB52"
          ],
          "font": {
           "color": "#2a3f5f"
          },
          "geo": {
           "bgcolor": "white",
           "lakecolor": "white",
           "landcolor": "#E5ECF6",
           "showlakes": true,
           "showland": true,
           "subunitcolor": "white"
          },
          "hoverlabel": {
           "align": "left"
          },
          "hovermode": "closest",
          "mapbox": {
           "style": "light"
          },
          "paper_bgcolor": "white",
          "plot_bgcolor": "#E5ECF6",
          "polar": {
           "angularaxis": {
            "gridcolor": "white",
            "linecolor": "white",
            "ticks": ""
           },
           "bgcolor": "#E5ECF6",
           "radialaxis": {
            "gridcolor": "white",
            "linecolor": "white",
            "ticks": ""
           }
          },
          "scene": {
           "xaxis": {
            "backgroundcolor": "#E5ECF6",
            "gridcolor": "white",
            "gridwidth": 2,
            "linecolor": "white",
            "showbackground": true,
            "ticks": "",
            "zerolinecolor": "white"
           },
           "yaxis": {
            "backgroundcolor": "#E5ECF6",
            "gridcolor": "white",
            "gridwidth": 2,
            "linecolor": "white",
            "showbackground": true,
            "ticks": "",
            "zerolinecolor": "white"
           },
           "zaxis": {
            "backgroundcolor": "#E5ECF6",
            "gridcolor": "white",
            "gridwidth": 2,
            "linecolor": "white",
            "showbackground": true,
            "ticks": "",
            "zerolinecolor": "white"
           }
          },
          "shapedefaults": {
           "line": {
            "color": "#2a3f5f"
           }
          },
          "ternary": {
           "aaxis": {
            "gridcolor": "white",
            "linecolor": "white",
            "ticks": ""
           },
           "baxis": {
            "gridcolor": "white",
            "linecolor": "white",
            "ticks": ""
           },
           "bgcolor": "#E5ECF6",
           "caxis": {
            "gridcolor": "white",
            "linecolor": "white",
            "ticks": ""
           }
          },
          "title": {
           "x": 0.05
          },
          "xaxis": {
           "automargin": true,
           "gridcolor": "white",
           "linecolor": "white",
           "ticks": "",
           "title": {
            "standoff": 15
           },
           "zerolinecolor": "white",
           "zerolinewidth": 2
          },
          "yaxis": {
           "automargin": true,
           "gridcolor": "white",
           "linecolor": "white",
           "ticks": "",
           "title": {
            "standoff": 15
           },
           "zerolinecolor": "white",
           "zerolinewidth": 2
          }
         }
        },
        "width": 1000,
        "xaxis": {
         "anchor": "y",
         "domain": [
          0,
          1
         ],
         "title": {
          "text": "total_count_present"
         }
        },
        "yaxis": {
         "anchor": "x",
         "domain": [
          0,
          1
         ],
         "title": {
          "text": "drug_class"
         }
        }
       }
      },
      "text/html": [
       "<div>                            <div id=\"fa23404c-05cf-4e4f-b258-6f9db259ee79\" class=\"plotly-graph-div\" style=\"height:1200px; width:1000px;\"></div>            <script type=\"text/javascript\">                require([\"plotly\"], function(Plotly) {                    window.PLOTLYENV=window.PLOTLYENV || {};                                    if (document.getElementById(\"fa23404c-05cf-4e4f-b258-6f9db259ee79\")) {                    Plotly.newPlot(                        \"fa23404c-05cf-4e4f-b258-6f9db259ee79\",                        [{\"alignmentgroup\": \"True\", \"hovertemplate\": \"total_count_present=%{x}<br>drug_class=%{y}<extra></extra>\", \"legendgroup\": \"\", \"marker\": {\"color\": \"#636efa\"}, \"name\": \"\", \"offsetgroup\": \"\", \"orientation\": \"h\", \"showlegend\": false, \"textposition\": \"auto\", \"type\": \"bar\", \"x\": [832, 726, 435, 424, 404, 402, 367, 360, 340, 336, 316, 301, 297, 283, 281, 279, 273, 270, 267, 266, 264, 241, 236, 223, 192, 190, 170, 165, 158, 151, 130, 127, 121, 119, 115, 115, 106, 106, 104, 103, 102, 98, 97, 96, 96, 96, 93, 92, 89, 89, 85, 84, 80, 80, 74, 74, 73, 73, 73, 73, 73, 72, 72, 72, 71, 68, 67, 67, 66, 62, 62, 61, 61, 61, 60, 60, 60, 59, 56, 56, 55, 55, 54, 54, 54, 51, 50, 49, 48, 48, 48, 48, 48, 48, 48, 47, 44, 43, 42, 42, 42, 42, 39, 38, 37, 37, 37, 37, 37, 37, 36, 36, 36, 36, 36, 36, 36, 36, 36, 36, 36, 36, 35, 32, 31, 31, 31, 31, 30, 30, 30, 30, 30, 30, 29, 26, 26, 26, 25, 25, 25, 25, 25, 25, 25, 25, 24, 24, 24, 24, 24, 23, 23, 19, 19, 19, 19, 18, 18, 18, 18, 18, 18, 18, 18, 18, 18, 18, 18, 18, 17, 13, 13, 12, 12, 12, 12, 12, 12, 12, 12, 12, 12, 12, 7, 7, 7, 7, 6, 6, 6, 6, 6, 6, 6, 6, 6, 6, 6, 6, 6, 6, 6, 6, 1, 1], \"xaxis\": \"x\", \"y\": [\"nfkb_inhibitor\", \"proteasome_inhibitor\", \"cyclooxygenase_inhibitor\", \"dopamine_receptor_antagonist\", \"serotonin_receptor_antagonist\", \"dna_inhibitor\", \"glutamate_receptor_antagonist\", \"adrenergic_receptor_antagonist\", \"cdk_inhibitor\", \"egfr_inhibitor\", \"tubulin_inhibitor\", \"acetylcholine_receptor_antagonist\", \"pdgfr_inhibitor\", \"hmgcr_inhibitor\", \"calcium_channel_blocker\", \"flt3_inhibitor\", \"kit_inhibitor\", \"adrenergic_receptor_agonist\", \"sodium_channel_inhibitor\", \"glucocorticoid_receptor_agonist\", \"phosphodiesterase_inhibitor\", \"histamine_receptor_antagonist\", \"serotonin_receptor_agonist\", \"raf_inhibitor\", \"bacterial_cell_wall_synthesis_inhibitor\", \"acetylcholine_receptor_agonist\", \"vegfr_inhibitor\", \"gaba_receptor_antagonist\", \"estrogen_receptor_agonist\", \"pi3k_inhibitor\", \"mtor_inhibitor\", \"topoisomerase_inhibitor\", \"dopamine_receptor_agonist\", \"progesterone_receptor_agonist\", \"ppar_receptor_agonist\", \"bacterial_dna_inhibitor\", \"gaba_receptor_agonist\", \"hdac_inhibitor\", \"cytochrome_p450_inhibitor\", \"protein_synthesis_inhibitor\", \"cc_chemokine_receptor_antagonist\", \"potassium_channel_antagonist\", \"atpase_inhibitor\", \"aurora_kinase_inhibitor\", \"adenosine_receptor_antagonist\", \"opioid_receptor_antagonist\", \"hsp_inhibitor\", \"jak_inhibitor\", \"androgen_receptor_antagonist\", \"bacterial_dna_gyrase_inhibitor\", \"monoamine_oxidase_inhibitor\", \"prostanoid_receptor_antagonist\", \"anesthetic_-_local\", \"bacterial_50s_ribosomal_subunit_inhibitor\", \"membrane_integrity_inhibitor\", \"glutamate_receptor_agonist\", \"tyrosine_kinase_inhibitor\", \"anti-inflammatory\", \"acetylcholinesterase_inhibitor\", \"antioxidant\", \"immunosuppressant\", \"mek_inhibitor\", \"hiv_inhibitor\", \"hcv_inhibitor\", \"src_inhibitor\", \"bromodomain_inhibitor\", \"retinoid_receptor_agonist\", \"benzodiazepine_receptor_agonist\", \"akt_inhibitor\", \"p38_mapk_inhibitor\", \"leukotriene_receptor_antagonist\", \"opioid_receptor_agonist\", \"parp_inhibitor\", \"lipoxygenase_inhibitor\", \"bacterial_30s_ribosomal_subunit_inhibitor\", \"tachykinin_antagonist\", \"gsk_inhibitor\", \"histamine_receptor_agonist\", \"gamma_secretase_inhibitor\", \"radiopaque_medium\", \"potassium_channel_activator\", \"cannabinoid_receptor_antagonist\", \"cholinergic_receptor_antagonist\", \"chelating_agent\", \"adenosine_receptor_agonist\", \"insulin_sensitizer\", \"fgfr_inhibitor\", \"apoptosis_stimulant\", \"protein_kinase_inhibitor\", \"dna_alkylating_agent\", \"trpv_antagonist\", \"androgen_receptor_agonist\", \"mucolytic_agent\", \"estrogen_receptor_antagonist\", \"cholesterol_inhibitor\", \"aromatase_inhibitor\", \"serotonin_reuptake_inhibitor\", \"antibiotic\", \"alk_inhibitor\", \"integrin_inhibitor\", \"cannabinoid_receptor_agonist\", \"chloride_channel_blocker\", \"vitamin_d_receptor_agonist\", \"bcr-abl_inhibitor\", \"neuropeptide_receptor_antagonist\", \"ribonucleoside_reductase_inhibitor\", \"igf-1_inhibitor\", \"orexin_receptor_antagonist\", \"thymidylate_synthase_inhibitor\", \"angiotensin_receptor_antagonist\", \"corticosteroid_agonist\", \"faah_inhibitor\", \"tnf_inhibitor\", \"dihydrofolate_reductase_inhibitor\", \"bacterial_antifolate\", \"angiogenesis_inhibitor\", \"sigma_receptor_antagonist\", \"sigma_receptor_agonist\", \"casein_kinase_inhibitor\", \"antiprotozoal\", \"carbonic_anhydrase_inhibitor\", \"prostaglandin_inhibitor\", \"rho_associated_kinase_inhibitor\", \"histone_lysine_methyltransferase_inhibitor\", \"imidazoline_receptor_agonist\", \"mdm_inhibitor\", \"pkc_inhibitor\", \"bcl_inhibitor\", \"wnt_inhibitor\", \"tlr_agonist\", \"ikk_inhibitor\", \"tgf-beta_receptor_inhibitor\", \"ppar_receptor_antagonist\", \"insulin_secretagogue\", \"btk_inhibitor\", \"nitric_oxide_synthase_inhibitor\", \"nitric_oxide_donor\", \"vitamin_b\", \"rna_polymerase_inhibitor\", \"smoothened_receptor_antagonist\", \"sphingosine_receptor_agonist\", \"mineralocorticoid_receptor_antagonist\", \"trpv_agonist\", \"phospholipase_inhibitor\", \"dipeptidyl_peptidase_inhibitor\", \"fatty_acid_receptor_agonist\", \"acat_inhibitor\", \"chk_inhibitor\", \"histone_lysine_demethylase_inhibitor\", \"beta_amyloid_inhibitor\", \"p-glycoprotein_inhibitor\", \"antiviral\", \"fungal_squalene_epoxidase_inhibitor\", \"protein_tyrosine_kinase_inhibitor\", \"syk_inhibitor\", \"thrombin_inhibitor\", \"atr_kinase_inhibitor\", \"antimalarial\", \"nrf2_activator\", \"progesterone_receptor_antagonist\", \"cck_receptor_antagonist\", \"monopolar_spindle_1_kinase_inhibitor\", \"11-beta-hsd1_inhibitor\", \"farnesyltransferase_inhibitor\", \"focal_adhesion_kinase_inhibitor\", \"free_radical_scavenger\", \"transient_receptor_potential_channel_antagonist\", \"gonadotropin_receptor_agonist\", \"caspase_activator\", \"pdk_inhibitor\", \"5-alpha_reductase_inhibitor\", \"glutamate_inhibitor\", \"antifungal\", \"ras_gtpase_inhibitor\", \"monoacylglycerol_lipase_inhibitor\", \"atp_synthase_inhibitor\", \"ampk_activator\", \"analgesic\", \"nitric_oxide_production_inhibitor\", \"antihistamine\", \"anticonvulsant\", \"lipase_inhibitor\", \"catechol_o_methyltransferase_inhibitor\", \"adenylyl_cyclase_activator\", \"tlr_antagonist\", \"aldehyde_dehydrogenase_inhibitor\", \"bacterial_membrane_integrity_inhibitor\", \"norepinephrine_reuptake_inhibitor\", \"laxative\", \"tropomyosin_receptor_kinase_inhibitor\", \"ubiquitin_specific_protease_inhibitor\", \"coagulation_factor_inhibitor\", \"leukotriene_inhibitor\", \"steroid\", \"elastase_inhibitor\", \"lxr_agonist\", \"calcineurin_inhibitor\", \"atm_kinase_inhibitor\", \"nicotinic_receptor_agonist\", \"retinoid_receptor_antagonist\", \"antiarrhythmic\", \"protein_phosphatase_inhibitor\", \"autotaxin_inhibitor\", \"diuretic\", \"erbb2_inhibitor\", \"atp-sensitive_potassium_channel_antagonist\"], \"yaxis\": \"y\"}],                        {\"barmode\": \"relative\", \"height\": 1200, \"legend\": {\"tracegroupgap\": 0}, \"margin\": {\"t\": 60}, \"template\": {\"data\": {\"bar\": [{\"error_x\": {\"color\": \"#2a3f5f\"}, \"error_y\": {\"color\": \"#2a3f5f\"}, \"marker\": {\"line\": {\"color\": \"#E5ECF6\", \"width\": 0.5}}, \"type\": \"bar\"}], \"barpolar\": [{\"marker\": {\"line\": {\"color\": \"#E5ECF6\", \"width\": 0.5}}, \"type\": \"barpolar\"}], \"carpet\": [{\"aaxis\": {\"endlinecolor\": \"#2a3f5f\", \"gridcolor\": \"white\", \"linecolor\": \"white\", \"minorgridcolor\": \"white\", \"startlinecolor\": \"#2a3f5f\"}, \"baxis\": {\"endlinecolor\": \"#2a3f5f\", \"gridcolor\": \"white\", \"linecolor\": \"white\", \"minorgridcolor\": \"white\", \"startlinecolor\": \"#2a3f5f\"}, \"type\": \"carpet\"}], \"choropleth\": [{\"colorbar\": {\"outlinewidth\": 0, \"ticks\": \"\"}, \"type\": \"choropleth\"}], \"contour\": [{\"colorbar\": {\"outlinewidth\": 0, \"ticks\": \"\"}, \"colorscale\": [[0.0, \"#0d0887\"], [0.1111111111111111, \"#46039f\"], [0.2222222222222222, \"#7201a8\"], [0.3333333333333333, \"#9c179e\"], [0.4444444444444444, \"#bd3786\"], [0.5555555555555556, \"#d8576b\"], [0.6666666666666666, \"#ed7953\"], [0.7777777777777778, \"#fb9f3a\"], [0.8888888888888888, \"#fdca26\"], [1.0, \"#f0f921\"]], \"type\": \"contour\"}], \"contourcarpet\": [{\"colorbar\": {\"outlinewidth\": 0, \"ticks\": \"\"}, \"type\": \"contourcarpet\"}], \"heatmap\": [{\"colorbar\": {\"outlinewidth\": 0, \"ticks\": \"\"}, \"colorscale\": [[0.0, \"#0d0887\"], [0.1111111111111111, \"#46039f\"], [0.2222222222222222, \"#7201a8\"], [0.3333333333333333, \"#9c179e\"], [0.4444444444444444, \"#bd3786\"], [0.5555555555555556, \"#d8576b\"], [0.6666666666666666, \"#ed7953\"], [0.7777777777777778, \"#fb9f3a\"], [0.8888888888888888, \"#fdca26\"], [1.0, \"#f0f921\"]], \"type\": \"heatmap\"}], \"heatmapgl\": [{\"colorbar\": {\"outlinewidth\": 0, \"ticks\": \"\"}, \"colorscale\": [[0.0, \"#0d0887\"], [0.1111111111111111, \"#46039f\"], [0.2222222222222222, \"#7201a8\"], [0.3333333333333333, \"#9c179e\"], [0.4444444444444444, \"#bd3786\"], [0.5555555555555556, \"#d8576b\"], [0.6666666666666666, \"#ed7953\"], [0.7777777777777778, \"#fb9f3a\"], [0.8888888888888888, \"#fdca26\"], [1.0, \"#f0f921\"]], \"type\": \"heatmapgl\"}], \"histogram\": [{\"marker\": {\"colorbar\": {\"outlinewidth\": 0, \"ticks\": \"\"}}, \"type\": \"histogram\"}], \"histogram2d\": [{\"colorbar\": {\"outlinewidth\": 0, \"ticks\": \"\"}, \"colorscale\": [[0.0, \"#0d0887\"], [0.1111111111111111, \"#46039f\"], [0.2222222222222222, \"#7201a8\"], [0.3333333333333333, \"#9c179e\"], [0.4444444444444444, \"#bd3786\"], [0.5555555555555556, \"#d8576b\"], [0.6666666666666666, \"#ed7953\"], [0.7777777777777778, \"#fb9f3a\"], [0.8888888888888888, \"#fdca26\"], [1.0, \"#f0f921\"]], \"type\": \"histogram2d\"}], \"histogram2dcontour\": [{\"colorbar\": {\"outlinewidth\": 0, \"ticks\": \"\"}, \"colorscale\": [[0.0, \"#0d0887\"], [0.1111111111111111, \"#46039f\"], [0.2222222222222222, \"#7201a8\"], [0.3333333333333333, \"#9c179e\"], [0.4444444444444444, \"#bd3786\"], [0.5555555555555556, \"#d8576b\"], [0.6666666666666666, \"#ed7953\"], [0.7777777777777778, \"#fb9f3a\"], [0.8888888888888888, \"#fdca26\"], [1.0, \"#f0f921\"]], \"type\": \"histogram2dcontour\"}], \"mesh3d\": [{\"colorbar\": {\"outlinewidth\": 0, \"ticks\": \"\"}, \"type\": \"mesh3d\"}], \"parcoords\": [{\"line\": {\"colorbar\": {\"outlinewidth\": 0, \"ticks\": \"\"}}, \"type\": \"parcoords\"}], \"pie\": [{\"automargin\": true, \"type\": \"pie\"}], \"scatter\": [{\"marker\": {\"colorbar\": {\"outlinewidth\": 0, \"ticks\": \"\"}}, \"type\": \"scatter\"}], \"scatter3d\": [{\"line\": {\"colorbar\": {\"outlinewidth\": 0, \"ticks\": \"\"}}, \"marker\": {\"colorbar\": {\"outlinewidth\": 0, \"ticks\": \"\"}}, \"type\": \"scatter3d\"}], \"scattercarpet\": [{\"marker\": {\"colorbar\": {\"outlinewidth\": 0, \"ticks\": \"\"}}, \"type\": \"scattercarpet\"}], \"scattergeo\": [{\"marker\": {\"colorbar\": {\"outlinewidth\": 0, \"ticks\": \"\"}}, \"type\": \"scattergeo\"}], \"scattergl\": [{\"marker\": {\"colorbar\": {\"outlinewidth\": 0, \"ticks\": \"\"}}, \"type\": \"scattergl\"}], \"scattermapbox\": [{\"marker\": {\"colorbar\": {\"outlinewidth\": 0, \"ticks\": \"\"}}, \"type\": \"scattermapbox\"}], \"scatterpolar\": [{\"marker\": {\"colorbar\": {\"outlinewidth\": 0, \"ticks\": \"\"}}, \"type\": \"scatterpolar\"}], \"scatterpolargl\": [{\"marker\": {\"colorbar\": {\"outlinewidth\": 0, \"ticks\": \"\"}}, \"type\": \"scatterpolargl\"}], \"scatterternary\": [{\"marker\": {\"colorbar\": {\"outlinewidth\": 0, \"ticks\": \"\"}}, \"type\": \"scatterternary\"}], \"surface\": [{\"colorbar\": {\"outlinewidth\": 0, \"ticks\": \"\"}, \"colorscale\": [[0.0, \"#0d0887\"], [0.1111111111111111, \"#46039f\"], [0.2222222222222222, \"#7201a8\"], [0.3333333333333333, \"#9c179e\"], [0.4444444444444444, \"#bd3786\"], [0.5555555555555556, \"#d8576b\"], [0.6666666666666666, \"#ed7953\"], [0.7777777777777778, \"#fb9f3a\"], [0.8888888888888888, \"#fdca26\"], [1.0, \"#f0f921\"]], \"type\": \"surface\"}], \"table\": [{\"cells\": {\"fill\": {\"color\": \"#EBF0F8\"}, \"line\": {\"color\": \"white\"}}, \"header\": {\"fill\": {\"color\": \"#C8D4E3\"}, \"line\": {\"color\": \"white\"}}, \"type\": \"table\"}]}, \"layout\": {\"annotationdefaults\": {\"arrowcolor\": \"#2a3f5f\", \"arrowhead\": 0, \"arrowwidth\": 1}, \"coloraxis\": {\"colorbar\": {\"outlinewidth\": 0, \"ticks\": \"\"}}, \"colorscale\": {\"diverging\": [[0, \"#8e0152\"], [0.1, \"#c51b7d\"], [0.2, \"#de77ae\"], [0.3, \"#f1b6da\"], [0.4, \"#fde0ef\"], [0.5, \"#f7f7f7\"], [0.6, \"#e6f5d0\"], [0.7, \"#b8e186\"], [0.8, \"#7fbc41\"], [0.9, \"#4d9221\"], [1, \"#276419\"]], \"sequential\": [[0.0, \"#0d0887\"], [0.1111111111111111, \"#46039f\"], [0.2222222222222222, \"#7201a8\"], [0.3333333333333333, \"#9c179e\"], [0.4444444444444444, \"#bd3786\"], [0.5555555555555556, \"#d8576b\"], [0.6666666666666666, \"#ed7953\"], [0.7777777777777778, \"#fb9f3a\"], [0.8888888888888888, \"#fdca26\"], [1.0, \"#f0f921\"]], \"sequentialminus\": [[0.0, \"#0d0887\"], [0.1111111111111111, \"#46039f\"], [0.2222222222222222, \"#7201a8\"], [0.3333333333333333, \"#9c179e\"], [0.4444444444444444, \"#bd3786\"], [0.5555555555555556, \"#d8576b\"], [0.6666666666666666, \"#ed7953\"], [0.7777777777777778, \"#fb9f3a\"], [0.8888888888888888, \"#fdca26\"], [1.0, \"#f0f921\"]]}, \"colorway\": [\"#636efa\", \"#EF553B\", \"#00cc96\", \"#ab63fa\", \"#FFA15A\", \"#19d3f3\", \"#FF6692\", \"#B6E880\", \"#FF97FF\", \"#FECB52\"], \"font\": {\"color\": \"#2a3f5f\"}, \"geo\": {\"bgcolor\": \"white\", \"lakecolor\": \"white\", \"landcolor\": \"#E5ECF6\", \"showlakes\": true, \"showland\": true, \"subunitcolor\": \"white\"}, \"hoverlabel\": {\"align\": \"left\"}, \"hovermode\": \"closest\", \"mapbox\": {\"style\": \"light\"}, \"paper_bgcolor\": \"white\", \"plot_bgcolor\": \"#E5ECF6\", \"polar\": {\"angularaxis\": {\"gridcolor\": \"white\", \"linecolor\": \"white\", \"ticks\": \"\"}, \"bgcolor\": \"#E5ECF6\", \"radialaxis\": {\"gridcolor\": \"white\", \"linecolor\": \"white\", \"ticks\": \"\"}}, \"scene\": {\"xaxis\": {\"backgroundcolor\": \"#E5ECF6\", \"gridcolor\": \"white\", \"gridwidth\": 2, \"linecolor\": \"white\", \"showbackground\": true, \"ticks\": \"\", \"zerolinecolor\": \"white\"}, \"yaxis\": {\"backgroundcolor\": \"#E5ECF6\", \"gridcolor\": \"white\", \"gridwidth\": 2, \"linecolor\": \"white\", \"showbackground\": true, \"ticks\": \"\", \"zerolinecolor\": \"white\"}, \"zaxis\": {\"backgroundcolor\": \"#E5ECF6\", \"gridcolor\": \"white\", \"gridwidth\": 2, \"linecolor\": \"white\", \"showbackground\": true, \"ticks\": \"\", \"zerolinecolor\": \"white\"}}, \"shapedefaults\": {\"line\": {\"color\": \"#2a3f5f\"}}, \"ternary\": {\"aaxis\": {\"gridcolor\": \"white\", \"linecolor\": \"white\", \"ticks\": \"\"}, \"baxis\": {\"gridcolor\": \"white\", \"linecolor\": \"white\", \"ticks\": \"\"}, \"bgcolor\": \"#E5ECF6\", \"caxis\": {\"gridcolor\": \"white\", \"linecolor\": \"white\", \"ticks\": \"\"}}, \"title\": {\"x\": 0.05}, \"xaxis\": {\"automargin\": true, \"gridcolor\": \"white\", \"linecolor\": \"white\", \"ticks\": \"\", \"title\": {\"standoff\": 15}, \"zerolinecolor\": \"white\", \"zerolinewidth\": 2}, \"yaxis\": {\"automargin\": true, \"gridcolor\": \"white\", \"linecolor\": \"white\", \"ticks\": \"\", \"title\": {\"standoff\": 15}, \"zerolinecolor\": \"white\", \"zerolinewidth\": 2}}}, \"width\": 1000, \"xaxis\": {\"anchor\": \"y\", \"domain\": [0.0, 1.0], \"title\": {\"text\": \"total_count_present\"}}, \"yaxis\": {\"anchor\": \"x\", \"domain\": [0.0, 1.0], \"title\": {\"text\": \"drug_class\"}}},                        {\"responsive\": true}                    ).then(function(){\n",
       "                            \n",
       "var gd = document.getElementById('fa23404c-05cf-4e4f-b258-6f9db259ee79');\n",
       "var x = new MutationObserver(function (mutations, observer) {{\n",
       "        var display = window.getComputedStyle(gd).display;\n",
       "        if (!display || display === 'none') {{\n",
       "            console.log([gd, 'removed!']);\n",
       "            Plotly.purge(gd);\n",
       "            observer.disconnect();\n",
       "        }}\n",
       "}});\n",
       "\n",
       "// Listen for the removal of the full notebook cells\n",
       "var notebookContainer = gd.closest('#notebook-container');\n",
       "if (notebookContainer) {{\n",
       "    x.observe(notebookContainer, {childList: true});\n",
       "}}\n",
       "\n",
       "// Listen for the clearing of the current output cell\n",
       "var outputEl = gd.closest('.output');\n",
       "if (outputEl) {{\n",
       "    x.observe(outputEl, {childList: true});\n",
       "}}\n",
       "\n",
       "                        })                };                });            </script>        </div>"
      ]
     },
     "metadata": {},
     "output_type": "display_data"
    }
   ],
   "source": [
    "x = tt_scored.sum(axis=0).sort_values(ascending=False).reset_index()\n",
    "x.columns = ['drug_class', 'total_count_present']\n",
    "\n",
    "px.bar(x, x='total_count_present', y='drug_class', height=1200, width=1000, orientation='h')"
   ]
  },
  {
   "cell_type": "code",
   "execution_count": 264,
   "metadata": {},
   "outputs": [],
   "source": [
    "x = tt_scored.sum(axis=0).sort_values(ascending=False).reset_index()"
   ]
  },
  {
   "cell_type": "code",
   "execution_count": 265,
   "metadata": {},
   "outputs": [],
   "source": [
    "tt_nonscored = tt_nonscored.drop('sig_id', axis=1).sum(axis=0).sort_values(ascending=False).reset_index()"
   ]
  },
  {
   "cell_type": "code",
   "execution_count": 266,
   "metadata": {},
   "outputs": [
    {
     "data": {
      "text/html": [
       "<div>\n",
       "<style scoped>\n",
       "    .dataframe tbody tr th:only-of-type {\n",
       "        vertical-align: middle;\n",
       "    }\n",
       "\n",
       "    .dataframe tbody tr th {\n",
       "        vertical-align: top;\n",
       "    }\n",
       "\n",
       "    .dataframe thead th {\n",
       "        text-align: right;\n",
       "    }\n",
       "</style>\n",
       "<table border=\"1\" class=\"dataframe\">\n",
       "  <thead>\n",
       "    <tr style=\"text-align: right;\">\n",
       "      <th></th>\n",
       "      <th>index</th>\n",
       "      <th>0</th>\n",
       "    </tr>\n",
       "  </thead>\n",
       "  <tbody>\n",
       "    <tr>\n",
       "      <th>0</th>\n",
       "      <td>ace_inhibitor</td>\n",
       "      <td>91</td>\n",
       "    </tr>\n",
       "    <tr>\n",
       "      <th>1</th>\n",
       "      <td>purinergic_receptor_antagonist</td>\n",
       "      <td>78</td>\n",
       "    </tr>\n",
       "    <tr>\n",
       "      <th>2</th>\n",
       "      <td>map_kinase_inhibitor</td>\n",
       "      <td>74</td>\n",
       "    </tr>\n",
       "    <tr>\n",
       "      <th>3</th>\n",
       "      <td>sterol_demethylase_inhibitor</td>\n",
       "      <td>72</td>\n",
       "    </tr>\n",
       "    <tr>\n",
       "      <th>4</th>\n",
       "      <td>bone_resorption_inhibitor</td>\n",
       "      <td>67</td>\n",
       "    </tr>\n",
       "    <tr>\n",
       "      <th>...</th>\n",
       "      <td>...</td>\n",
       "      <td>...</td>\n",
       "    </tr>\n",
       "    <tr>\n",
       "      <th>397</th>\n",
       "      <td>collagenase_inhibitor</td>\n",
       "      <td>0</td>\n",
       "    </tr>\n",
       "    <tr>\n",
       "      <th>398</th>\n",
       "      <td>collapsin_response_mediator_protein_stimulant</td>\n",
       "      <td>0</td>\n",
       "    </tr>\n",
       "    <tr>\n",
       "      <th>399</th>\n",
       "      <td>coloring_agent</td>\n",
       "      <td>0</td>\n",
       "    </tr>\n",
       "    <tr>\n",
       "      <th>400</th>\n",
       "      <td>complement_antagonist</td>\n",
       "      <td>0</td>\n",
       "    </tr>\n",
       "    <tr>\n",
       "      <th>401</th>\n",
       "      <td>h+_k+-atpase_inhibitor</td>\n",
       "      <td>0</td>\n",
       "    </tr>\n",
       "  </tbody>\n",
       "</table>\n",
       "<p>402 rows × 2 columns</p>\n",
       "</div>"
      ],
      "text/plain": [
       "                                             index   0\n",
       "0                                    ace_inhibitor  91\n",
       "1                   purinergic_receptor_antagonist  78\n",
       "2                             map_kinase_inhibitor  74\n",
       "3                     sterol_demethylase_inhibitor  72\n",
       "4                        bone_resorption_inhibitor  67\n",
       "..                                             ...  ..\n",
       "397                          collagenase_inhibitor   0\n",
       "398  collapsin_response_mediator_protein_stimulant   0\n",
       "399                                 coloring_agent   0\n",
       "400                          complement_antagonist   0\n",
       "401                         h+_k+-atpase_inhibitor   0\n",
       "\n",
       "[402 rows x 2 columns]"
      ]
     },
     "execution_count": 266,
     "metadata": {},
     "output_type": "execute_result"
    }
   ],
   "source": [
    "tt_nonscored"
   ]
  },
  {
   "cell_type": "code",
   "execution_count": 267,
   "metadata": {},
   "outputs": [],
   "source": [
    "# tzs = [.2, .225, .25, .275]\n",
    "# mod_log_loss = []\n",
    "# rss = []\n",
    "# lls = []\n",
    "# def model_funnel(X, y, tz, mod):\n",
    "    \n",
    "#     rs = np.random.randint(100)\n",
    "#     rss.append(rs)\n",
    "    \n",
    "#     X_train, X_test, y_train, y_test = train_test_split(X, y, test_size=tz, random_state=rs)\n",
    "#     mod.fit(X_train, y_train)\n",
    "    \n",
    "#     pred = mod.predict(X_test)\n",
    "#     mod_log_loss.append(pred)\n",
    "    \n",
    "#     ll = log_loss(np.ravel(y_test), np.ravel(pred))\n",
    "#     lls.append(ll)\n",
    "    \n",
    "    \n",
    "    \n",
    "\n",
    "# for tz in tzs:\n",
    "#     values = model_funnel(train_features, tt_scored, tz, clf)"
   ]
  },
  {
   "cell_type": "code",
   "execution_count": 268,
   "metadata": {},
   "outputs": [],
   "source": [
    "# lls"
   ]
  },
  {
   "cell_type": "code",
   "execution_count": 269,
   "metadata": {},
   "outputs": [
    {
     "data": {
      "text/html": [
       "<div>\n",
       "<style scoped>\n",
       "    .dataframe tbody tr th:only-of-type {\n",
       "        vertical-align: middle;\n",
       "    }\n",
       "\n",
       "    .dataframe tbody tr th {\n",
       "        vertical-align: top;\n",
       "    }\n",
       "\n",
       "    .dataframe thead th {\n",
       "        text-align: right;\n",
       "    }\n",
       "</style>\n",
       "<table border=\"1\" class=\"dataframe\">\n",
       "  <thead>\n",
       "    <tr style=\"text-align: right;\">\n",
       "      <th></th>\n",
       "      <th>sig_id</th>\n",
       "    </tr>\n",
       "  </thead>\n",
       "  <tbody>\n",
       "    <tr>\n",
       "      <th>8546</th>\n",
       "      <td>id_5bfd8b079</td>\n",
       "    </tr>\n",
       "    <tr>\n",
       "      <th>20367</th>\n",
       "      <td>id_dab475e01</td>\n",
       "    </tr>\n",
       "    <tr>\n",
       "      <th>12759</th>\n",
       "      <td>id_896d4f2ab</td>\n",
       "    </tr>\n",
       "    <tr>\n",
       "      <th>11928</th>\n",
       "      <td>id_807933fab</td>\n",
       "    </tr>\n",
       "    <tr>\n",
       "      <th>15613</th>\n",
       "      <td>id_a7fae6323</td>\n",
       "    </tr>\n",
       "    <tr>\n",
       "      <th>...</th>\n",
       "      <td>...</td>\n",
       "    </tr>\n",
       "    <tr>\n",
       "      <th>22809</th>\n",
       "      <td>id_f4d73321b</td>\n",
       "    </tr>\n",
       "    <tr>\n",
       "      <th>7221</th>\n",
       "      <td>id_4d945ebe1</td>\n",
       "    </tr>\n",
       "    <tr>\n",
       "      <th>18244</th>\n",
       "      <td>id_c3cad17f4</td>\n",
       "    </tr>\n",
       "    <tr>\n",
       "      <th>17860</th>\n",
       "      <td>id_bfd74dc37</td>\n",
       "    </tr>\n",
       "    <tr>\n",
       "      <th>6308</th>\n",
       "      <td>id_43bb19f20</td>\n",
       "    </tr>\n",
       "  </tbody>\n",
       "</table>\n",
       "<p>5487 rows × 1 columns</p>\n",
       "</div>"
      ],
      "text/plain": [
       "             sig_id\n",
       "8546   id_5bfd8b079\n",
       "20367  id_dab475e01\n",
       "12759  id_896d4f2ab\n",
       "11928  id_807933fab\n",
       "15613  id_a7fae6323\n",
       "...             ...\n",
       "22809  id_f4d73321b\n",
       "7221   id_4d945ebe1\n",
       "18244  id_c3cad17f4\n",
       "17860  id_bfd74dc37\n",
       "6308   id_43bb19f20\n",
       "\n",
       "[5487 rows x 1 columns]"
      ]
     },
     "execution_count": 269,
     "metadata": {},
     "output_type": "execute_result"
    }
   ],
   "source": [
    "s_sigs"
   ]
  },
  {
   "cell_type": "code",
   "execution_count": 270,
   "metadata": {},
   "outputs": [],
   "source": [
    "\n",
    "sample_submission = pd.DataFrame(preds, columns=tt_scored.columns, index=s_sigs['sig_id'])\n",
    "\n",
    "sample_submission.to_csv('submission.csv')"
   ]
  },
  {
   "cell_type": "code",
   "execution_count": 271,
   "metadata": {},
   "outputs": [],
   "source": [
    "ss = pd.read_csv('submission.csv')"
   ]
  },
  {
   "cell_type": "code",
   "execution_count": 272,
   "metadata": {},
   "outputs": [
    {
     "data": {
      "text/html": [
       "<div>\n",
       "<style scoped>\n",
       "    .dataframe tbody tr th:only-of-type {\n",
       "        vertical-align: middle;\n",
       "    }\n",
       "\n",
       "    .dataframe tbody tr th {\n",
       "        vertical-align: top;\n",
       "    }\n",
       "\n",
       "    .dataframe thead th {\n",
       "        text-align: right;\n",
       "    }\n",
       "</style>\n",
       "<table border=\"1\" class=\"dataframe\">\n",
       "  <thead>\n",
       "    <tr style=\"text-align: right;\">\n",
       "      <th></th>\n",
       "      <th>sig_id</th>\n",
       "      <th>5-alpha_reductase_inhibitor</th>\n",
       "      <th>11-beta-hsd1_inhibitor</th>\n",
       "      <th>acat_inhibitor</th>\n",
       "      <th>acetylcholine_receptor_agonist</th>\n",
       "      <th>acetylcholine_receptor_antagonist</th>\n",
       "      <th>acetylcholinesterase_inhibitor</th>\n",
       "      <th>adenosine_receptor_agonist</th>\n",
       "      <th>adenosine_receptor_antagonist</th>\n",
       "      <th>adenylyl_cyclase_activator</th>\n",
       "      <th>...</th>\n",
       "      <th>tropomyosin_receptor_kinase_inhibitor</th>\n",
       "      <th>trpv_agonist</th>\n",
       "      <th>trpv_antagonist</th>\n",
       "      <th>tubulin_inhibitor</th>\n",
       "      <th>tyrosine_kinase_inhibitor</th>\n",
       "      <th>ubiquitin_specific_protease_inhibitor</th>\n",
       "      <th>vegfr_inhibitor</th>\n",
       "      <th>vitamin_b</th>\n",
       "      <th>vitamin_d_receptor_agonist</th>\n",
       "      <th>wnt_inhibitor</th>\n",
       "    </tr>\n",
       "  </thead>\n",
       "  <tbody>\n",
       "    <tr>\n",
       "      <th>0</th>\n",
       "      <td>id_5bfd8b079</td>\n",
       "      <td>0</td>\n",
       "      <td>0</td>\n",
       "      <td>0</td>\n",
       "      <td>0</td>\n",
       "      <td>0</td>\n",
       "      <td>0</td>\n",
       "      <td>0</td>\n",
       "      <td>0</td>\n",
       "      <td>0</td>\n",
       "      <td>...</td>\n",
       "      <td>0</td>\n",
       "      <td>0</td>\n",
       "      <td>0</td>\n",
       "      <td>0</td>\n",
       "      <td>0</td>\n",
       "      <td>0</td>\n",
       "      <td>0</td>\n",
       "      <td>0</td>\n",
       "      <td>0</td>\n",
       "      <td>0</td>\n",
       "    </tr>\n",
       "    <tr>\n",
       "      <th>1</th>\n",
       "      <td>id_dab475e01</td>\n",
       "      <td>0</td>\n",
       "      <td>0</td>\n",
       "      <td>0</td>\n",
       "      <td>0</td>\n",
       "      <td>0</td>\n",
       "      <td>0</td>\n",
       "      <td>0</td>\n",
       "      <td>0</td>\n",
       "      <td>0</td>\n",
       "      <td>...</td>\n",
       "      <td>0</td>\n",
       "      <td>0</td>\n",
       "      <td>0</td>\n",
       "      <td>0</td>\n",
       "      <td>0</td>\n",
       "      <td>0</td>\n",
       "      <td>0</td>\n",
       "      <td>0</td>\n",
       "      <td>0</td>\n",
       "      <td>0</td>\n",
       "    </tr>\n",
       "    <tr>\n",
       "      <th>2</th>\n",
       "      <td>id_896d4f2ab</td>\n",
       "      <td>0</td>\n",
       "      <td>0</td>\n",
       "      <td>0</td>\n",
       "      <td>0</td>\n",
       "      <td>0</td>\n",
       "      <td>0</td>\n",
       "      <td>0</td>\n",
       "      <td>0</td>\n",
       "      <td>0</td>\n",
       "      <td>...</td>\n",
       "      <td>0</td>\n",
       "      <td>0</td>\n",
       "      <td>0</td>\n",
       "      <td>0</td>\n",
       "      <td>0</td>\n",
       "      <td>0</td>\n",
       "      <td>0</td>\n",
       "      <td>0</td>\n",
       "      <td>0</td>\n",
       "      <td>0</td>\n",
       "    </tr>\n",
       "    <tr>\n",
       "      <th>3</th>\n",
       "      <td>id_807933fab</td>\n",
       "      <td>0</td>\n",
       "      <td>0</td>\n",
       "      <td>0</td>\n",
       "      <td>0</td>\n",
       "      <td>0</td>\n",
       "      <td>0</td>\n",
       "      <td>0</td>\n",
       "      <td>0</td>\n",
       "      <td>0</td>\n",
       "      <td>...</td>\n",
       "      <td>0</td>\n",
       "      <td>0</td>\n",
       "      <td>0</td>\n",
       "      <td>0</td>\n",
       "      <td>0</td>\n",
       "      <td>0</td>\n",
       "      <td>0</td>\n",
       "      <td>0</td>\n",
       "      <td>0</td>\n",
       "      <td>0</td>\n",
       "    </tr>\n",
       "    <tr>\n",
       "      <th>4</th>\n",
       "      <td>id_a7fae6323</td>\n",
       "      <td>0</td>\n",
       "      <td>0</td>\n",
       "      <td>0</td>\n",
       "      <td>0</td>\n",
       "      <td>0</td>\n",
       "      <td>0</td>\n",
       "      <td>0</td>\n",
       "      <td>0</td>\n",
       "      <td>0</td>\n",
       "      <td>...</td>\n",
       "      <td>0</td>\n",
       "      <td>0</td>\n",
       "      <td>0</td>\n",
       "      <td>0</td>\n",
       "      <td>0</td>\n",
       "      <td>0</td>\n",
       "      <td>0</td>\n",
       "      <td>0</td>\n",
       "      <td>0</td>\n",
       "      <td>0</td>\n",
       "    </tr>\n",
       "  </tbody>\n",
       "</table>\n",
       "<p>5 rows × 207 columns</p>\n",
       "</div>"
      ],
      "text/plain": [
       "         sig_id  5-alpha_reductase_inhibitor  11-beta-hsd1_inhibitor  \\\n",
       "0  id_5bfd8b079                            0                       0   \n",
       "1  id_dab475e01                            0                       0   \n",
       "2  id_896d4f2ab                            0                       0   \n",
       "3  id_807933fab                            0                       0   \n",
       "4  id_a7fae6323                            0                       0   \n",
       "\n",
       "   acat_inhibitor  acetylcholine_receptor_agonist  \\\n",
       "0               0                               0   \n",
       "1               0                               0   \n",
       "2               0                               0   \n",
       "3               0                               0   \n",
       "4               0                               0   \n",
       "\n",
       "   acetylcholine_receptor_antagonist  acetylcholinesterase_inhibitor  \\\n",
       "0                                  0                               0   \n",
       "1                                  0                               0   \n",
       "2                                  0                               0   \n",
       "3                                  0                               0   \n",
       "4                                  0                               0   \n",
       "\n",
       "   adenosine_receptor_agonist  adenosine_receptor_antagonist  \\\n",
       "0                           0                              0   \n",
       "1                           0                              0   \n",
       "2                           0                              0   \n",
       "3                           0                              0   \n",
       "4                           0                              0   \n",
       "\n",
       "   adenylyl_cyclase_activator  ...  tropomyosin_receptor_kinase_inhibitor  \\\n",
       "0                           0  ...                                      0   \n",
       "1                           0  ...                                      0   \n",
       "2                           0  ...                                      0   \n",
       "3                           0  ...                                      0   \n",
       "4                           0  ...                                      0   \n",
       "\n",
       "   trpv_agonist  trpv_antagonist  tubulin_inhibitor  \\\n",
       "0             0                0                  0   \n",
       "1             0                0                  0   \n",
       "2             0                0                  0   \n",
       "3             0                0                  0   \n",
       "4             0                0                  0   \n",
       "\n",
       "   tyrosine_kinase_inhibitor  ubiquitin_specific_protease_inhibitor  \\\n",
       "0                          0                                      0   \n",
       "1                          0                                      0   \n",
       "2                          0                                      0   \n",
       "3                          0                                      0   \n",
       "4                          0                                      0   \n",
       "\n",
       "   vegfr_inhibitor  vitamin_b  vitamin_d_receptor_agonist  wnt_inhibitor  \n",
       "0                0          0                           0              0  \n",
       "1                0          0                           0              0  \n",
       "2                0          0                           0              0  \n",
       "3                0          0                           0              0  \n",
       "4                0          0                           0              0  \n",
       "\n",
       "[5 rows x 207 columns]"
      ]
     },
     "execution_count": 272,
     "metadata": {},
     "output_type": "execute_result"
    }
   ],
   "source": [
    "ss.head()"
   ]
  },
  {
   "cell_type": "code",
   "execution_count": null,
   "metadata": {},
   "outputs": [],
   "source": []
  }
 ],
 "metadata": {
  "kernelspec": {
   "display_name": "Python 3",
   "language": "python",
   "name": "python3"
  },
  "language_info": {
   "codemirror_mode": {
    "name": "ipython",
    "version": 3
   },
   "file_extension": ".py",
   "mimetype": "text/x-python",
   "name": "python",
   "nbconvert_exporter": "python",
   "pygments_lexer": "ipython3",
   "version": "3.7.9"
  }
 },
 "nbformat": 4,
 "nbformat_minor": 4
}
